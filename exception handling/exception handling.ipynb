{
 "cells": [
  {
   "cell_type": "markdown",
   "id": "7939e200",
   "metadata": {},
   "source": [
    "## exception handling"
   ]
  },
  {
   "cell_type": "code",
   "execution_count": 1,
   "id": "adf89e2e",
   "metadata": {},
   "outputs": [
    {
     "ename": "ZeroDivisionError",
     "evalue": "division by zero",
     "output_type": "error",
     "traceback": [
      "\u001b[31m---------------------------------------------------------------------------\u001b[39m",
      "\u001b[31mZeroDivisionError\u001b[39m                         Traceback (most recent call last)",
      "\u001b[36mCell\u001b[39m\u001b[36m \u001b[39m\u001b[32mIn[1]\u001b[39m\u001b[32m, line 1\u001b[39m\n\u001b[32m----> \u001b[39m\u001b[32m1\u001b[39m \u001b[32;43m78\u001b[39;49m\u001b[43m/\u001b[49m\u001b[32;43m0\u001b[39;49m\n",
      "\u001b[31mZeroDivisionError\u001b[39m: division by zero"
     ]
    }
   ],
   "source": [
    "78/0"
   ]
  },
  {
   "cell_type": "code",
   "execution_count": 2,
   "id": "442b1c93",
   "metadata": {},
   "outputs": [
    {
     "ename": "TypeError",
     "evalue": "unsupported operand type(s) for /: 'str' and 'int'",
     "output_type": "error",
     "traceback": [
      "\u001b[31m---------------------------------------------------------------------------\u001b[39m",
      "\u001b[31mTypeError\u001b[39m                                 Traceback (most recent call last)",
      "\u001b[36mCell\u001b[39m\u001b[36m \u001b[39m\u001b[32mIn[2]\u001b[39m\u001b[32m, line 1\u001b[39m\n\u001b[32m----> \u001b[39m\u001b[32m1\u001b[39m \u001b[33;43m\"\u001b[39;49m\u001b[33;43mdata\u001b[39;49m\u001b[33;43m\"\u001b[39;49m\u001b[43m/\u001b[49m\u001b[32;43m8\u001b[39;49m\n",
      "\u001b[31mTypeError\u001b[39m: unsupported operand type(s) for /: 'str' and 'int'"
     ]
    }
   ],
   "source": [
    "\"data\"/8"
   ]
  },
  {
   "cell_type": "code",
   "execution_count": 3,
   "id": "593eb574",
   "metadata": {},
   "outputs": [],
   "source": [
    "def divide():\n",
    "    num1 = int(input(\"Enter a number\"))\n",
    "    num2 = int(input(\"Enter another number\"))\n",
    "\n",
    "    return num1/num2"
   ]
  },
  {
   "cell_type": "code",
   "execution_count": 4,
   "id": "86fec70d",
   "metadata": {},
   "outputs": [
    {
     "ename": "ValueError",
     "evalue": "invalid literal for int() with base 10: 'data'",
     "output_type": "error",
     "traceback": [
      "\u001b[31m---------------------------------------------------------------------------\u001b[39m",
      "\u001b[31mValueError\u001b[39m                                Traceback (most recent call last)",
      "\u001b[36mCell\u001b[39m\u001b[36m \u001b[39m\u001b[32mIn[4]\u001b[39m\u001b[32m, line 1\u001b[39m\n\u001b[32m----> \u001b[39m\u001b[32m1\u001b[39m \u001b[43mdivide\u001b[49m\u001b[43m(\u001b[49m\u001b[43m)\u001b[49m\n",
      "\u001b[36mCell\u001b[39m\u001b[36m \u001b[39m\u001b[32mIn[3]\u001b[39m\u001b[32m, line 2\u001b[39m, in \u001b[36mdivide\u001b[39m\u001b[34m()\u001b[39m\n\u001b[32m      1\u001b[39m \u001b[38;5;28;01mdef\u001b[39;00m\u001b[38;5;250m \u001b[39m\u001b[34mdivide\u001b[39m():\n\u001b[32m----> \u001b[39m\u001b[32m2\u001b[39m     num1 = \u001b[38;5;28;43mint\u001b[39;49m\u001b[43m(\u001b[49m\u001b[38;5;28;43minput\u001b[39;49m\u001b[43m(\u001b[49m\u001b[33;43m\"\u001b[39;49m\u001b[33;43mEnter a number\u001b[39;49m\u001b[33;43m\"\u001b[39;49m\u001b[43m)\u001b[49m\u001b[43m)\u001b[49m\n\u001b[32m      3\u001b[39m     num2 = \u001b[38;5;28mint\u001b[39m(\u001b[38;5;28minput\u001b[39m(\u001b[33m\"\u001b[39m\u001b[33mEnter another number\u001b[39m\u001b[33m\"\u001b[39m))\n\u001b[32m      5\u001b[39m     \u001b[38;5;28;01mreturn\u001b[39;00m num1/num2\n",
      "\u001b[31mValueError\u001b[39m: invalid literal for int() with base 10: 'data'"
     ]
    }
   ],
   "source": [
    "divide()"
   ]
  },
  {
   "cell_type": "code",
   "execution_count": 5,
   "id": "51739a32",
   "metadata": {},
   "outputs": [
    {
     "ename": "ZeroDivisionError",
     "evalue": "division by zero",
     "output_type": "error",
     "traceback": [
      "\u001b[31m---------------------------------------------------------------------------\u001b[39m",
      "\u001b[31mZeroDivisionError\u001b[39m                         Traceback (most recent call last)",
      "\u001b[36mCell\u001b[39m\u001b[36m \u001b[39m\u001b[32mIn[5]\u001b[39m\u001b[32m, line 1\u001b[39m\n\u001b[32m----> \u001b[39m\u001b[32m1\u001b[39m \u001b[43mdivide\u001b[49m\u001b[43m(\u001b[49m\u001b[43m)\u001b[49m\n",
      "\u001b[36mCell\u001b[39m\u001b[36m \u001b[39m\u001b[32mIn[3]\u001b[39m\u001b[32m, line 5\u001b[39m, in \u001b[36mdivide\u001b[39m\u001b[34m()\u001b[39m\n\u001b[32m      2\u001b[39m num1 = \u001b[38;5;28mint\u001b[39m(\u001b[38;5;28minput\u001b[39m(\u001b[33m\"\u001b[39m\u001b[33mEnter a number\u001b[39m\u001b[33m\"\u001b[39m))\n\u001b[32m      3\u001b[39m num2 = \u001b[38;5;28mint\u001b[39m(\u001b[38;5;28minput\u001b[39m(\u001b[33m\"\u001b[39m\u001b[33mEnter another number\u001b[39m\u001b[33m\"\u001b[39m))\n\u001b[32m----> \u001b[39m\u001b[32m5\u001b[39m \u001b[38;5;28;01mreturn\u001b[39;00m \u001b[43mnum1\u001b[49m\u001b[43m/\u001b[49m\u001b[43mnum2\u001b[49m\n",
      "\u001b[31mZeroDivisionError\u001b[39m: division by zero"
     ]
    }
   ],
   "source": [
    "divide()"
   ]
  },
  {
   "cell_type": "code",
   "execution_count": 6,
   "id": "b4c2969a",
   "metadata": {},
   "outputs": [],
   "source": [
    "def divide2():\n",
    "    try:\n",
    "        num1 = int(input(\"enter a number\"))\n",
    "        num2 = int(input(\"enter another number\"))\n",
    "        return num1/num2\n",
    "\n",
    "    except ValueError as e:\n",
    "        print(f\"Error {e} has occurred. \")\n",
    "        print(\"You have provided non numeric data. Kindly provide only numeric data other than 0\")\n",
    "    except ZeroDivisionError as e:\n",
    "        print(f\"Error {e} has occurred. You have to provide numeric data other than ZERO\")\n",
    "    "
   ]
  },
  {
   "cell_type": "code",
   "execution_count": 7,
   "id": "529d768a",
   "metadata": {},
   "outputs": [
    {
     "name": "stdout",
     "output_type": "stream",
     "text": [
      "Error invalid literal for int() with base 10: 'data' has occurred. \n",
      "You have provided non numeric data. Kindly provide only numeric data other than 0\n"
     ]
    }
   ],
   "source": [
    "divide2()"
   ]
  },
  {
   "cell_type": "code",
   "execution_count": 8,
   "id": "cd1e4681",
   "metadata": {},
   "outputs": [
    {
     "name": "stdout",
     "output_type": "stream",
     "text": [
      "Error division by zero has occurred. You have to provide numeric data other than ZERO\n"
     ]
    }
   ],
   "source": [
    "divide2()"
   ]
  },
  {
   "cell_type": "code",
   "execution_count": 9,
   "id": "c13d1dd0",
   "metadata": {},
   "outputs": [],
   "source": [
    "def divide3():\n",
    "    try:\n",
    "        num1 = int(input(\"Enter a number\"))\n",
    "        num2 = int(input(\"Enter another number\"))\n",
    "\n",
    "        return num1/num2\n",
    "    except Exception as e:\n",
    "        print(f\"Error has occurred. Kindly provide any Numeric data Other than ZERO\")"
   ]
  },
  {
   "cell_type": "code",
   "execution_count": 10,
   "id": "1631b69d",
   "metadata": {},
   "outputs": [
    {
     "name": "stdout",
     "output_type": "stream",
     "text": [
      "Error has occurred. Kindly provide any Numeric data Other than ZERO\n"
     ]
    }
   ],
   "source": [
    "divide3()"
   ]
  },
  {
   "cell_type": "code",
   "execution_count": 11,
   "id": "978ecdd8",
   "metadata": {},
   "outputs": [],
   "source": [
    "def divide4():\n",
    "    try:\n",
    "        num1 = int(input(\"Enter a number\"))\n",
    "        num2 = int(input(\"Enter another number\"))\n",
    "\n",
    "        return num1/num2\n",
    "    except ValueError as e:\n",
    "        print(f\"Error {e} has occurred. \")\n",
    "        print(\"You have provided non numeric data. Kindly provide only numeric data other than 0\")\n",
    "\n",
    "    except Exception as e:\n",
    "        print(\"Error has occurred. Kindly provide any Numeric data Other than ZERO\")\n",
    "\n",
    "\n",
    "     "
   ]
  },
  {
   "cell_type": "code",
   "execution_count": 12,
   "id": "a4e29dbd",
   "metadata": {},
   "outputs": [
    {
     "name": "stdout",
     "output_type": "stream",
     "text": [
      "Error has occurred. Kindly provide any Numeric data Other than ZERO\n"
     ]
    }
   ],
   "source": [
    "divide4()"
   ]
  },
  {
   "cell_type": "code",
   "execution_count": 13,
   "id": "94ce3767",
   "metadata": {},
   "outputs": [
    {
     "name": "stdout",
     "output_type": "stream",
     "text": [
      "Error invalid literal for int() with base 10: 'date' has occurred. \n",
      "You have provided non numeric data. Kindly provide only numeric data other than 0\n"
     ]
    }
   ],
   "source": [
    "divide4()"
   ]
  },
  {
   "cell_type": "markdown",
   "id": "9b525eeb",
   "metadata": {},
   "source": [
    "## finally block"
   ]
  },
  {
   "cell_type": "code",
   "execution_count": 14,
   "id": "1a9cf09d",
   "metadata": {},
   "outputs": [],
   "source": [
    "import math\n",
    "def calculate_squareroot(n):\n",
    "    try:\n",
    "        x = math.sqrt(n)\n",
    "        return x\n",
    "    except Exception as e:\n",
    "        print(f\"Exception {e} has occurred.\")\n",
    "    finally:\n",
    "        print(\"Welcome to the coding page. Thanks for trying this program.\")"
   ]
  },
  {
   "cell_type": "code",
   "execution_count": 15,
   "id": "0117c534",
   "metadata": {},
   "outputs": [
    {
     "name": "stdout",
     "output_type": "stream",
     "text": [
      "Welcome to the coding page. Thanks for trying this program.\n"
     ]
    },
    {
     "data": {
      "text/plain": [
       "9.433981132056603"
      ]
     },
     "execution_count": 15,
     "metadata": {},
     "output_type": "execute_result"
    }
   ],
   "source": [
    "c_s = calculate_squareroot(89)\n",
    "c_s"
   ]
  },
  {
   "cell_type": "code",
   "execution_count": 16,
   "id": "4de4361a",
   "metadata": {},
   "outputs": [
    {
     "name": "stdout",
     "output_type": "stream",
     "text": [
      "Exception must be real number, not str has occurred.\n",
      "Welcome to the coding page. Thanks for trying this program.\n"
     ]
    }
   ],
   "source": [
    "calculate_squareroot(\"text\")\n"
   ]
  }
 ],
 "metadata": {
  "kernelspec": {
   "display_name": "venv",
   "language": "python",
   "name": "python3"
  },
  "language_info": {
   "codemirror_mode": {
    "name": "ipython",
    "version": 3
   },
   "file_extension": ".py",
   "mimetype": "text/x-python",
   "name": "python",
   "nbconvert_exporter": "python",
   "pygments_lexer": "ipython3",
   "version": "3.13.3"
  }
 },
 "nbformat": 4,
 "nbformat_minor": 5
}
