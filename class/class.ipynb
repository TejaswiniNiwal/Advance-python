{
 "cells": [
  {
   "cell_type": "markdown",
   "id": "7d3b63c4",
   "metadata": {},
   "source": [
    "## class"
   ]
  },
  {
   "cell_type": "code",
   "execution_count": 1,
   "id": "c2d52e80",
   "metadata": {},
   "outputs": [
    {
     "data": {
      "text/html": [
       "<div>\n",
       "<style scoped>\n",
       "    .dataframe tbody tr th:only-of-type {\n",
       "        vertical-align: middle;\n",
       "    }\n",
       "\n",
       "    .dataframe tbody tr th {\n",
       "        vertical-align: top;\n",
       "    }\n",
       "\n",
       "    .dataframe thead th {\n",
       "        text-align: right;\n",
       "    }\n",
       "</style>\n",
       "<table border=\"1\" class=\"dataframe\">\n",
       "  <thead>\n",
       "    <tr style=\"text-align: right;\">\n",
       "      <th></th>\n",
       "      <th>dept_id</th>\n",
       "      <th>dname</th>\n",
       "    </tr>\n",
       "  </thead>\n",
       "  <tbody>\n",
       "    <tr>\n",
       "      <th>0</th>\n",
       "      <td>10</td>\n",
       "      <td>HR</td>\n",
       "    </tr>\n",
       "    <tr>\n",
       "      <th>1</th>\n",
       "      <td>20</td>\n",
       "      <td>MKT</td>\n",
       "    </tr>\n",
       "    <tr>\n",
       "      <th>2</th>\n",
       "      <td>30</td>\n",
       "      <td>SAL</td>\n",
       "    </tr>\n",
       "    <tr>\n",
       "      <th>3</th>\n",
       "      <td>40</td>\n",
       "      <td>ADM</td>\n",
       "    </tr>\n",
       "    <tr>\n",
       "      <th>4</th>\n",
       "      <td>50</td>\n",
       "      <td>FIN</td>\n",
       "    </tr>\n",
       "  </tbody>\n",
       "</table>\n",
       "</div>"
      ],
      "text/plain": [
       "   dept_id dname\n",
       "0       10    HR\n",
       "1       20   MKT\n",
       "2       30   SAL\n",
       "3       40   ADM\n",
       "4       50   FIN"
      ]
     },
     "execution_count": 1,
     "metadata": {},
     "output_type": "execute_result"
    }
   ],
   "source": [
    "import pandas as pd\n",
    "path = r\"D:\\teju\\database file\\dept.csv\" \n",
    "df = pd.read_csv(path)\n",
    "df.head()"
   ]
  },
  {
   "cell_type": "code",
   "execution_count": 2,
   "id": "c79cfc27",
   "metadata": {},
   "outputs": [
    {
     "data": {
      "text/plain": [
       "(6, 2)"
      ]
     },
     "execution_count": 2,
     "metadata": {},
     "output_type": "execute_result"
    }
   ],
   "source": [
    "df.shape"
   ]
  },
  {
   "cell_type": "code",
   "execution_count": 3,
   "id": "a1163f78",
   "metadata": {},
   "outputs": [
    {
     "data": {
      "text/plain": [
       "Index(['dept_id', 'dname'], dtype='object')"
      ]
     },
     "execution_count": 3,
     "metadata": {},
     "output_type": "execute_result"
    }
   ],
   "source": [
    "df.columns"
   ]
  },
  {
   "cell_type": "code",
   "execution_count": 4,
   "id": "fbda06f8",
   "metadata": {},
   "outputs": [
    {
     "name": "stdout",
     "output_type": "stream",
     "text": [
      "<class 'pandas.core.frame.DataFrame'>\n",
      "RangeIndex: 6 entries, 0 to 5\n",
      "Data columns (total 2 columns):\n",
      " #   Column   Non-Null Count  Dtype \n",
      "---  ------   --------------  ----- \n",
      " 0   dept_id  6 non-null      int64 \n",
      " 1   dname    6 non-null      object\n",
      "dtypes: int64(1), object(1)\n",
      "memory usage: 228.0+ bytes\n"
     ]
    }
   ],
   "source": [
    "df.info()"
   ]
  },
  {
   "cell_type": "markdown",
   "id": "ecfe99b1",
   "metadata": {},
   "source": [
    "## syntax \n",
    "\n",
    "\n",
    "class class_name:\n",
    "\n",
    "    #define instance attributes\n",
    "    def __init__(self,attribute1,attribute2):\n",
    "        self.attribute1 = attribute1\n",
    "        self.attribute2 = attribute2\n",
    "\n",
    "\n",
    "    # create functionality using def keywords\n",
    "    def func1(self):\n",
    "        #accessible code\n",
    "    def func2(self):\n",
    "    #accessible code\n"
   ]
  },
  {
   "cell_type": "markdown",
   "id": "4afaf49b",
   "metadata": {},
   "source": [
    "## Create a class of Person with attributes as Name,Age,Occupation,Gender\n"
   ]
  },
  {
   "cell_type": "code",
   "execution_count": 7,
   "id": "3f206c88",
   "metadata": {},
   "outputs": [],
   "source": [
    "class person:\n",
    "    # define the instance/object attributes\n",
    "    def __init__(self,name,age,gender,occupation):\n",
    "       self.name = name\n",
    "       self.age = age\n",
    "       self.gender= gender\n",
    "       self.occupation = occupation\n",
    "\n",
    "    def introduce(self):\n",
    "        print(f\"Hi, my name is {self.name}. I am {self.age} years old. I work for {self.occupation} organization\")\n",
    "\n",
    "    def work(self):\n",
    "        print(f\"My work hours are 9am - 6pm\")\n",
    "    \n",
    "    def hobbies(self):\n",
    "        print(f\"My hobbies are playing cricket, watching movies\")"
   ]
  },
  {
   "cell_type": "code",
   "execution_count": 8,
   "id": "52049dbd",
   "metadata": {},
   "outputs": [],
   "source": [
    "# Instance creation / object creation\n",
    "p1 = person(name=\"Raman\",age=35,gender=\"Male\",occupation=\"Accenture\")"
   ]
  },
  {
   "cell_type": "code",
   "execution_count": 9,
   "id": "d885901f",
   "metadata": {},
   "outputs": [
    {
     "data": {
      "text/plain": [
       "35"
      ]
     },
     "execution_count": 9,
     "metadata": {},
     "output_type": "execute_result"
    }
   ],
   "source": [
    "p1.age"
   ]
  },
  {
   "cell_type": "code",
   "execution_count": 10,
   "id": "175e0e45",
   "metadata": {},
   "outputs": [
    {
     "data": {
      "text/plain": [
       "'Raman'"
      ]
     },
     "execution_count": 10,
     "metadata": {},
     "output_type": "execute_result"
    }
   ],
   "source": [
    "p1.name"
   ]
  },
  {
   "cell_type": "code",
   "execution_count": 11,
   "id": "5b9d14a9",
   "metadata": {},
   "outputs": [
    {
     "name": "stdout",
     "output_type": "stream",
     "text": [
      "Hi, my name is Raman. I am 35 years old. I work for Accenture organization\n"
     ]
    }
   ],
   "source": [
    "p1.introduce()"
   ]
  },
  {
   "cell_type": "code",
   "execution_count": 12,
   "id": "07412b86",
   "metadata": {},
   "outputs": [
    {
     "name": "stdout",
     "output_type": "stream",
     "text": [
      "My hobbies are playing cricket, watching movies\n"
     ]
    }
   ],
   "source": [
    "p1.hobbies()"
   ]
  },
  {
   "cell_type": "code",
   "execution_count": 13,
   "id": "b043abca",
   "metadata": {},
   "outputs": [
    {
     "name": "stdout",
     "output_type": "stream",
     "text": [
      "My work hours are 9am - 6pm\n"
     ]
    }
   ],
   "source": [
    "p1.work()"
   ]
  },
  {
   "cell_type": "markdown",
   "id": "c0481b46",
   "metadata": {},
   "source": [
    "### If you want to define a method without passing self parameter, then use @static method before defining that method\n",
    "\n",
    "example:\n",
    "class a:\n",
    "    def __init__(self,x):\n",
    "    self.x=x\n",
    "\n",
    "    @staticmethod\n",
    "    def method1():\n",
    "        code of method1"
   ]
  },
  {
   "cell_type": "markdown",
   "id": "31b875c1",
   "metadata": {},
   "source": [
    "####  Create a class bank account with attributes as account holder name, balance ,account number Define below methods : withdrawal deposit transfer"
   ]
  },
  {
   "cell_type": "code",
   "execution_count": 24,
   "id": "88854fda",
   "metadata": {},
   "outputs": [],
   "source": [
    "class bank_account:\n",
    "    def __init__(self,account_number,account_holder_name,balance):\n",
    "        self.account_number = account_number\n",
    "        self.account_holder_name = account_holder_name\n",
    "        self.balance= balance\n",
    "\n",
    "    # define deposit method\n",
    "    def deposit(self,amount):\n",
    "        self.balance = self.balance + amount\n",
    "        return f\"Amount got deposited to {self.account_number}. Your new balance is {self.balance}\"\n",
    "\n",
    "     # define withdrawal method\n",
    "    def withdrawal(self,amt_withdraw):\n",
    "        # check whether withdrawal amount is less than original balance\n",
    "        if amt_withdraw < self.balance:\n",
    "            self.balance = self.balance - amt_withdraw\n",
    "            return f\"Amount got deducted from {self.account_number}. Your new balance is {self.balance}\"\n",
    "        else:\n",
    "            return f\"{self.account_holder_name},Insufficient balance in {self.account_number}. Cannot proceed with withdrawal process\"\n",
    "    \n",
    "    # define transfer method\n",
    "    def transfer(self,account_no,transfer_amnt):\n",
    "        self.balance = self.balance - transfer_amnt\n",
    "        return f\"{self.account_holder_name},Your account transfer is successful. Your new balance is {self.balance}\"   \n"
   ]
  },
  {
   "cell_type": "code",
   "execution_count": 25,
   "id": "145f7f79",
   "metadata": {},
   "outputs": [],
   "source": [
    "c1 = bank_account(154678,\"Thaman\",89500)"
   ]
  },
  {
   "cell_type": "code",
   "execution_count": 26,
   "id": "affa8e07",
   "metadata": {},
   "outputs": [
    {
     "data": {
      "text/plain": [
       "'Thaman'"
      ]
     },
     "execution_count": 26,
     "metadata": {},
     "output_type": "execute_result"
    }
   ],
   "source": [
    "c1.account_holder_name"
   ]
  },
  {
   "cell_type": "code",
   "execution_count": 27,
   "id": "e215ae2b",
   "metadata": {},
   "outputs": [
    {
     "data": {
      "text/plain": [
       "89500"
      ]
     },
     "execution_count": 27,
     "metadata": {},
     "output_type": "execute_result"
    }
   ],
   "source": [
    "c1.balance"
   ]
  },
  {
   "cell_type": "code",
   "execution_count": 28,
   "id": "336546e3",
   "metadata": {},
   "outputs": [
    {
     "data": {
      "text/plain": [
       "154678"
      ]
     },
     "execution_count": 28,
     "metadata": {},
     "output_type": "execute_result"
    }
   ],
   "source": [
    "c1.account_number"
   ]
  },
  {
   "cell_type": "code",
   "execution_count": 29,
   "id": "a7b06722",
   "metadata": {},
   "outputs": [
    {
     "data": {
      "text/plain": [
       "'Amount got deposited to 154678. Your new balance is 145500'"
      ]
     },
     "execution_count": 29,
     "metadata": {},
     "output_type": "execute_result"
    }
   ],
   "source": [
    "c1.deposit(56000)"
   ]
  },
  {
   "cell_type": "code",
   "execution_count": 31,
   "id": "de2d1c82",
   "metadata": {},
   "outputs": [
    {
     "data": {
      "text/plain": [
       "'Amount got deducted from 154678. Your new balance is 144600'"
      ]
     },
     "execution_count": 31,
     "metadata": {},
     "output_type": "execute_result"
    }
   ],
   "source": [
    "c1.withdrawal(900)"
   ]
  },
  {
   "cell_type": "code",
   "execution_count": 32,
   "id": "765ec959",
   "metadata": {},
   "outputs": [
    {
     "data": {
      "text/plain": [
       "'Thaman,Your account transfer is successful. Your new balance is 119600'"
      ]
     },
     "execution_count": 32,
     "metadata": {},
     "output_type": "execute_result"
    }
   ],
   "source": [
    "c1.transfer(8957456,25000)"
   ]
  },
  {
   "cell_type": "markdown",
   "id": "789f0fe0",
   "metadata": {},
   "source": [
    "## class attributes"
   ]
  },
  {
   "cell_type": "code",
   "execution_count": 33,
   "id": "711aea32",
   "metadata": {},
   "outputs": [],
   "source": [
    "class bank:\n",
    "    # class attributes\n",
    "    bank_name = \"HDFC\"\n",
    "    branch = \"Pimple Saudagar\"\n",
    "\n",
    "    def welcome():\n",
    "        pass"
   ]
  },
  {
   "cell_type": "code",
   "execution_count": 34,
   "id": "109914a5",
   "metadata": {},
   "outputs": [],
   "source": [
    "b1 = bank()\n",
    "b2 = bank()"
   ]
  },
  {
   "cell_type": "code",
   "execution_count": 35,
   "id": "b85d9290",
   "metadata": {},
   "outputs": [
    {
     "data": {
      "text/plain": [
       "'HDFC'"
      ]
     },
     "execution_count": 35,
     "metadata": {},
     "output_type": "execute_result"
    }
   ],
   "source": [
    "b1.bank_name"
   ]
  },
  {
   "cell_type": "code",
   "execution_count": 36,
   "id": "6af6d7cb",
   "metadata": {},
   "outputs": [
    {
     "data": {
      "text/plain": [
       "'HDFC'"
      ]
     },
     "execution_count": 36,
     "metadata": {},
     "output_type": "execute_result"
    }
   ],
   "source": [
    "b2.bank_name"
   ]
  },
  {
   "cell_type": "code",
   "execution_count": 37,
   "id": "6c7926a3",
   "metadata": {},
   "outputs": [
    {
     "data": {
      "text/plain": [
       "'Pimple Saudagar'"
      ]
     },
     "execution_count": 37,
     "metadata": {},
     "output_type": "execute_result"
    }
   ],
   "source": [
    "b2.branch"
   ]
  },
  {
   "cell_type": "code",
   "execution_count": 38,
   "id": "4faba32b",
   "metadata": {},
   "outputs": [],
   "source": [
    "class bank1:\n",
    "    # class attributes\n",
    "    bank_name = \"HDFC\"\n",
    "    branch = \"Pimple Saudagar\"\n",
    "\n",
    "    @classmethod\n",
    "    def welcome(cls):\n",
    "        print(f\"Welcome to {cls.bank_name}, Our branch is located at {cls.branch}\")\n"
   ]
  },
  {
   "cell_type": "code",
   "execution_count": 39,
   "id": "6a3669b9",
   "metadata": {},
   "outputs": [],
   "source": [
    "\n",
    "b1_1 = bank1()\n",
    "b1_2 = bank1()"
   ]
  },
  {
   "cell_type": "code",
   "execution_count": 40,
   "id": "80aaa754",
   "metadata": {},
   "outputs": [
    {
     "data": {
      "text/plain": [
       "'Pimple Saudagar'"
      ]
     },
     "execution_count": 40,
     "metadata": {},
     "output_type": "execute_result"
    }
   ],
   "source": [
    "b1_1.branch"
   ]
  },
  {
   "cell_type": "code",
   "execution_count": 41,
   "id": "9a90549d",
   "metadata": {},
   "outputs": [
    {
     "name": "stdout",
     "output_type": "stream",
     "text": [
      "Welcome to HDFC, Our branch is located at Pimple Saudagar\n"
     ]
    }
   ],
   "source": [
    "b1_1.welcome()"
   ]
  },
  {
   "cell_type": "code",
   "execution_count": 42,
   "id": "30f09532",
   "metadata": {},
   "outputs": [],
   "source": [
    "class bank2:\n",
    "    # class attributes\n",
    "    bank_name = \"HDFC\"\n",
    "    branch = \"Pimple Saudagar\"\n",
    "\n",
    "    def __init__(self,account_name,account_no,balance):\n",
    "        self.account_name = account_name\n",
    "        self.account_no = account_no\n",
    "        self.balance = balance\n",
    "\n",
    "    # TO use class attributes, mention classmethod and pass cls as method input parameter\n",
    "    @classmethod\n",
    "    def welcome(cls):\n",
    "        print(f\"Welcome to {cls.bank_name}, Our branch is located at {cls.branch}\")\n",
    "    \n",
    "    # define deposit method\n",
    "    def deposit(self,amount):\n",
    "        self.balance = self.balance + amount\n",
    "        return f\"Amount got deposited to {self.account_number}. Your new balance is {self.balance}\"\n",
    "    \n",
    "    # define withdrawal method\n",
    "    def withdrawal(self,amt_withdraw):\n",
    "        # check whether withdrawal amount is less than original balance\n",
    "        if amt_withdraw < self.balance:\n",
    "            self.balance = self.balance - amt_withdraw\n",
    "            return f\"Amount got deducted from {self.account_number}. Your new balance is {self.balance}\"\n",
    "        else:\n",
    "            return f\"{self.account_holder_name},Insufficient balance in {self.account_number}. Cannot proceed with withdrawal process\"\n",
    "    \n",
    "    # define transfer method\n",
    "    def transfer(self,account_no,transfer_amnt):\n",
    "        self.balance = self.balance - transfer_amnt\n",
    "        return f\"{self.account_holder_name},Your account transfer is successful. Your new balance is {self.balance}\""
   ]
  },
  {
   "cell_type": "code",
   "execution_count": 43,
   "id": "65327bd9",
   "metadata": {},
   "outputs": [],
   "source": [
    "b2_1 = bank2(\"Raman\",345345345,125000)\n",
    "b2_2 = bank2(\"Suman\",456546456,90800)"
   ]
  },
  {
   "cell_type": "code",
   "execution_count": 44,
   "id": "31001a8a",
   "metadata": {},
   "outputs": [
    {
     "data": {
      "text/plain": [
       "'Pimple Saudagar'"
      ]
     },
     "execution_count": 44,
     "metadata": {},
     "output_type": "execute_result"
    }
   ],
   "source": [
    "b2_1.branch"
   ]
  },
  {
   "cell_type": "code",
   "execution_count": 45,
   "id": "df7fa639",
   "metadata": {},
   "outputs": [
    {
     "data": {
      "text/plain": [
       "'HDFC'"
      ]
     },
     "execution_count": 45,
     "metadata": {},
     "output_type": "execute_result"
    }
   ],
   "source": [
    "b2_1.bank_name"
   ]
  },
  {
   "cell_type": "code",
   "execution_count": 46,
   "id": "fe67ca82",
   "metadata": {},
   "outputs": [
    {
     "data": {
      "text/plain": [
       "'Pimple Saudagar'"
      ]
     },
     "execution_count": 46,
     "metadata": {},
     "output_type": "execute_result"
    }
   ],
   "source": [
    "b2_2.branch"
   ]
  },
  {
   "cell_type": "code",
   "execution_count": 47,
   "id": "33c8e73f",
   "metadata": {},
   "outputs": [
    {
     "data": {
      "text/plain": [
       "'Suman'"
      ]
     },
     "execution_count": 47,
     "metadata": {},
     "output_type": "execute_result"
    }
   ],
   "source": [
    "\n",
    "b2_2.account_name"
   ]
  },
  {
   "cell_type": "code",
   "execution_count": 48,
   "id": "b7370c22",
   "metadata": {},
   "outputs": [
    {
     "data": {
      "text/plain": [
       "'Raman'"
      ]
     },
     "execution_count": 48,
     "metadata": {},
     "output_type": "execute_result"
    }
   ],
   "source": [
    "\n",
    "b2_1.account_name\n"
   ]
  },
  {
   "cell_type": "code",
   "execution_count": null,
   "id": "30e54bc5",
   "metadata": {},
   "outputs": [],
   "source": []
  }
 ],
 "metadata": {
  "kernelspec": {
   "display_name": "venv",
   "language": "python",
   "name": "python3"
  },
  "language_info": {
   "codemirror_mode": {
    "name": "ipython",
    "version": 3
   },
   "file_extension": ".py",
   "mimetype": "text/x-python",
   "name": "python",
   "nbconvert_exporter": "python",
   "pygments_lexer": "ipython3",
   "version": "3.13.3"
  }
 },
 "nbformat": 4,
 "nbformat_minor": 5
}
