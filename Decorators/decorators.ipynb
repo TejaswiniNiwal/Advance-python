{
 "cells": [
  {
   "cell_type": "markdown",
   "id": "f42a26e7",
   "metadata": {},
   "source": [
    "## Decorators : Decorators extend the functionality without making changes to the original functions"
   ]
  },
  {
   "cell_type": "code",
   "execution_count": 1,
   "id": "2e29f641",
   "metadata": {},
   "outputs": [],
   "source": [
    "def multiply(x:int,y:int):\n",
    "    c=x*y\n",
    "    return c"
   ]
  },
  {
   "cell_type": "code",
   "execution_count": 2,
   "id": "9d283edf",
   "metadata": {},
   "outputs": [
    {
     "data": {
      "text/plain": [
       "90"
      ]
     },
     "execution_count": 2,
     "metadata": {},
     "output_type": "execute_result"
    }
   ],
   "source": [
    "multiply(45,2)"
   ]
  },
  {
   "cell_type": "code",
   "execution_count": 3,
   "id": "9ec070aa",
   "metadata": {},
   "outputs": [
    {
     "name": "stdout",
     "output_type": "stream",
     "text": [
      "Help on function multiply in module __main__:\n",
      "\n",
      "multiply(x: int, y: int)\n",
      "\n"
     ]
    }
   ],
   "source": [
    "help(multiply)"
   ]
  },
  {
   "cell_type": "code",
   "execution_count": 4,
   "id": "d7f3a27d",
   "metadata": {},
   "outputs": [
    {
     "data": {
      "text/plain": [
       "'AAA'"
      ]
     },
     "execution_count": 4,
     "metadata": {},
     "output_type": "execute_result"
    }
   ],
   "source": [
    "multiply('A',3)"
   ]
  },
  {
   "cell_type": "code",
   "execution_count": 5,
   "id": "e5f5bd12",
   "metadata": {},
   "outputs": [
    {
     "data": {
      "text/plain": [
       "'AAA'"
      ]
     },
     "execution_count": 5,
     "metadata": {},
     "output_type": "execute_result"
    }
   ],
   "source": [
    "'A'*3"
   ]
  },
  {
   "cell_type": "code",
   "execution_count": 6,
   "id": "8638945d",
   "metadata": {},
   "outputs": [
    {
     "data": {
      "text/plain": [
       "[1, 1, 1]"
      ]
     },
     "execution_count": 6,
     "metadata": {},
     "output_type": "execute_result"
    }
   ],
   "source": [
    "[1]*3"
   ]
  },
  {
   "cell_type": "markdown",
   "id": "11192f2a",
   "metadata": {},
   "source": [
    "## If i want to make sure the whenever user uses my function multiply, he should be able to use it only when he provides integer inputs"
   ]
  },
  {
   "cell_type": "code",
   "execution_count": 7,
   "id": "c67e5022",
   "metadata": {},
   "outputs": [
    {
     "name": "stdout",
     "output_type": "stream",
     "text": [
      "Requirement already satisfied: ensure in d:\\teju\\adv python\\repository\\venv\\lib\\site-packages (1.0.4)\n",
      "Requirement already satisfied: six>=1.11.0 in d:\\teju\\adv python\\repository\\venv\\lib\\site-packages (from ensure) (1.17.0)\n",
      "Note: you may need to restart the kernel to use updated packages.\n"
     ]
    }
   ],
   "source": [
    "pip install ensure"
   ]
  },
  {
   "cell_type": "code",
   "execution_count": 8,
   "id": "2f68dbea",
   "metadata": {},
   "outputs": [],
   "source": [
    "from ensure import ensure_annotations"
   ]
  },
  {
   "cell_type": "code",
   "execution_count": 10,
   "id": "5d978024",
   "metadata": {},
   "outputs": [],
   "source": [
    "@ensure_annotations\n",
    "def multiply2(x:int,y:int):\n",
    "    c = x*y\n",
    "    return c"
   ]
  },
  {
   "cell_type": "code",
   "execution_count": 11,
   "id": "61f6a35e",
   "metadata": {},
   "outputs": [
    {
     "data": {
      "text/plain": [
       "623"
      ]
     },
     "execution_count": 11,
     "metadata": {},
     "output_type": "execute_result"
    }
   ],
   "source": [
    "multiply2(89,7)"
   ]
  },
  {
   "cell_type": "markdown",
   "id": "14237f7a",
   "metadata": {},
   "source": [
    "## User defined decorator function syntax\n",
    "\n",
    "\n",
    "\n",
    "def decorator_name(func):\n",
    "    def wrapper(*args,**kwargs):\n",
    "        before function execution\n",
    "        result = func(*args,**kwargs)\n",
    "        after function execution\n",
    "        return result\n",
    "    return wrapper"
   ]
  },
  {
   "cell_type": "code",
   "execution_count": 12,
   "id": "172ef3a2",
   "metadata": {},
   "outputs": [],
   "source": [
    "def welcome_user(func):\n",
    "    def wrapper (*args,**kwargs):\n",
    "        print(\"Hi.Welcome to the page.\")\n",
    "        result = func(*args,**kwargs)\n",
    "        print(result)\n",
    "        print(\"Thankyou for using the code \")\n",
    "        return result\n",
    "    return wrapper    "
   ]
  },
  {
   "cell_type": "code",
   "execution_count": 13,
   "id": "e56e6074",
   "metadata": {},
   "outputs": [],
   "source": [
    "@welcome_user\n",
    "def multiply3(x:int,y:int):\n",
    "    c= x*y\n",
    "    return c"
   ]
  },
  {
   "cell_type": "code",
   "execution_count": 14,
   "id": "f6e8e4b8",
   "metadata": {},
   "outputs": [
    {
     "name": "stdout",
     "output_type": "stream",
     "text": [
      "Hi.Welcome to the page.\n",
      "4368\n",
      "Thankyou for using the code \n"
     ]
    }
   ],
   "source": [
    "m3= multiply3(56,78)"
   ]
  },
  {
   "cell_type": "code",
   "execution_count": 15,
   "id": "17a40706",
   "metadata": {},
   "outputs": [
    {
     "data": {
      "text/plain": [
       "4368"
      ]
     },
     "execution_count": 15,
     "metadata": {},
     "output_type": "execute_result"
    }
   ],
   "source": [
    "m3"
   ]
  },
  {
   "cell_type": "code",
   "execution_count": 16,
   "id": "7892b5d9",
   "metadata": {},
   "outputs": [],
   "source": [
    "@welcome_user\n",
    "def simple_interest(p,n,r):\n",
    "    return (p*n*r/100)"
   ]
  },
  {
   "cell_type": "code",
   "execution_count": 17,
   "id": "ab11c96c",
   "metadata": {},
   "outputs": [
    {
     "name": "stdout",
     "output_type": "stream",
     "text": [
      "Hi.Welcome to the page.\n",
      "7840.0\n",
      "Thankyou for using the code \n"
     ]
    }
   ],
   "source": [
    "si1 = simple_interest(56000,4,3.5)"
   ]
  },
  {
   "cell_type": "code",
   "execution_count": 19,
   "id": "6c22bb93",
   "metadata": {},
   "outputs": [],
   "source": [
    "@ensure_annotations\n",
    "@welcome_user\n",
    "def simple_interest(p:int|float,n:int|float,r:int|float):\n",
    "    return (p*n*r/100)"
   ]
  },
  {
   "cell_type": "code",
   "execution_count": 20,
   "id": "9b7b19a1",
   "metadata": {},
   "outputs": [
    {
     "name": "stdout",
     "output_type": "stream",
     "text": [
      "Hi.Welcome to the page.\n",
      "9576.0\n",
      "Thankyou for using the code \n"
     ]
    }
   ],
   "source": [
    "si2= simple_interest(56000,4.5,3.8)"
   ]
  },
  {
   "cell_type": "code",
   "execution_count": 21,
   "id": "411708d5",
   "metadata": {},
   "outputs": [
    {
     "name": "stdout",
     "output_type": "stream",
     "text": [
      "Hi.Welcome to the page.\n"
     ]
    },
    {
     "ename": "TypeError",
     "evalue": "unsupported operand type(s) for /: 'str' and 'int'",
     "output_type": "error",
     "traceback": [
      "\u001b[31m---------------------------------------------------------------------------\u001b[39m",
      "\u001b[31mTypeError\u001b[39m                                 Traceback (most recent call last)",
      "\u001b[36mCell\u001b[39m\u001b[36m \u001b[39m\u001b[32mIn[21]\u001b[39m\u001b[32m, line 1\u001b[39m\n\u001b[32m----> \u001b[39m\u001b[32m1\u001b[39m si3= \u001b[43msimple_interest\u001b[49m\u001b[43m(\u001b[49m\u001b[33;43m'\u001b[39;49m\u001b[33;43mA\u001b[39;49m\u001b[33;43m'\u001b[39;49m\u001b[43m,\u001b[49m\u001b[32;43m5\u001b[39;49m\u001b[43m,\u001b[49m\u001b[32;43m6\u001b[39;49m\u001b[43m)\u001b[49m\n",
      "\u001b[36mFile \u001b[39m\u001b[32md:\\teju\\adv python\\repository\\venv\\Lib\\site-packages\\ensure\\main.py:835\u001b[39m, in \u001b[36mWrappedFunction.__call__\u001b[39m\u001b[34m(self, *args, **kwargs)\u001b[39m\n\u001b[32m    832\u001b[39m         msg = \u001b[33m\"\u001b[39m\u001b[33mArgument \u001b[39m\u001b[38;5;132;01m{arg}\u001b[39;00m\u001b[33m of type \u001b[39m\u001b[38;5;132;01m{valt}\u001b[39;00m\u001b[33m to \u001b[39m\u001b[38;5;132;01m{f}\u001b[39;00m\u001b[33m \u001b[39m\u001b[33m\"\u001b[39m \u001b[33m\"\u001b[39m\u001b[33mdoes not match annotation type \u001b[39m\u001b[38;5;132;01m{t}\u001b[39;00m\u001b[33m\"\u001b[39m\n\u001b[32m    833\u001b[39m         \u001b[38;5;28;01mraise\u001b[39;00m EnsureError(msg.format(arg=arg, f=\u001b[38;5;28mself\u001b[39m.f, t=templ, valt=\u001b[38;5;28mtype\u001b[39m(value)))\n\u001b[32m--> \u001b[39m\u001b[32m835\u001b[39m \u001b[38;5;28;01mreturn\u001b[39;00m \u001b[38;5;28;43mself\u001b[39;49m\u001b[43m.\u001b[49m\u001b[43mf\u001b[49m\u001b[43m(\u001b[49m\u001b[43m*\u001b[49m\u001b[43margs\u001b[49m\u001b[43m,\u001b[49m\u001b[43m \u001b[49m\u001b[43m*\u001b[49m\u001b[43m*\u001b[49m\u001b[43mkwargs\u001b[49m\u001b[43m)\u001b[49m\n",
      "\u001b[36mCell\u001b[39m\u001b[36m \u001b[39m\u001b[32mIn[12]\u001b[39m\u001b[32m, line 4\u001b[39m, in \u001b[36mwelcome_user.<locals>.wrapper\u001b[39m\u001b[34m(*args, **kwargs)\u001b[39m\n\u001b[32m      2\u001b[39m \u001b[38;5;28;01mdef\u001b[39;00m\u001b[38;5;250m \u001b[39m\u001b[34mwrapper\u001b[39m (*args,**kwargs):\n\u001b[32m      3\u001b[39m     \u001b[38;5;28mprint\u001b[39m(\u001b[33m\"\u001b[39m\u001b[33mHi.Welcome to the page.\u001b[39m\u001b[33m\"\u001b[39m)\n\u001b[32m----> \u001b[39m\u001b[32m4\u001b[39m     result = \u001b[43mfunc\u001b[49m\u001b[43m(\u001b[49m\u001b[43m*\u001b[49m\u001b[43margs\u001b[49m\u001b[43m,\u001b[49m\u001b[43m*\u001b[49m\u001b[43m*\u001b[49m\u001b[43mkwargs\u001b[49m\u001b[43m)\u001b[49m\n\u001b[32m      5\u001b[39m     \u001b[38;5;28mprint\u001b[39m(result)\n\u001b[32m      6\u001b[39m     \u001b[38;5;28mprint\u001b[39m(\u001b[33m\"\u001b[39m\u001b[33mThankyou for using the code \u001b[39m\u001b[33m\"\u001b[39m)\n",
      "\u001b[36mCell\u001b[39m\u001b[36m \u001b[39m\u001b[32mIn[19]\u001b[39m\u001b[32m, line 4\u001b[39m, in \u001b[36msimple_interest\u001b[39m\u001b[34m(p, n, r)\u001b[39m\n\u001b[32m      1\u001b[39m \u001b[38;5;129m@ensure_annotations\u001b[39m\n\u001b[32m      2\u001b[39m \u001b[38;5;129m@welcome_user\u001b[39m\n\u001b[32m      3\u001b[39m \u001b[38;5;28;01mdef\u001b[39;00m\u001b[38;5;250m \u001b[39m\u001b[34msimple_interest\u001b[39m(p:\u001b[38;5;28mint\u001b[39m|\u001b[38;5;28mfloat\u001b[39m,n:\u001b[38;5;28mint\u001b[39m|\u001b[38;5;28mfloat\u001b[39m,r:\u001b[38;5;28mint\u001b[39m|\u001b[38;5;28mfloat\u001b[39m):\n\u001b[32m----> \u001b[39m\u001b[32m4\u001b[39m     \u001b[38;5;28;01mreturn\u001b[39;00m (\u001b[43mp\u001b[49m\u001b[43m*\u001b[49m\u001b[43mn\u001b[49m\u001b[43m*\u001b[49m\u001b[43mr\u001b[49m\u001b[43m/\u001b[49m\u001b[32;43m100\u001b[39;49m)\n",
      "\u001b[31mTypeError\u001b[39m: unsupported operand type(s) for /: 'str' and 'int'"
     ]
    }
   ],
   "source": [
    "si3= simple_interest('A',5,6)"
   ]
  },
  {
   "cell_type": "code",
   "execution_count": null,
   "id": "1fec9745",
   "metadata": {},
   "outputs": [],
   "source": []
  }
 ],
 "metadata": {
  "kernelspec": {
   "display_name": "venv",
   "language": "python",
   "name": "python3"
  },
  "language_info": {
   "codemirror_mode": {
    "name": "ipython",
    "version": 3
   },
   "file_extension": ".py",
   "mimetype": "text/x-python",
   "name": "python",
   "nbconvert_exporter": "python",
   "pygments_lexer": "ipython3",
   "version": "3.13.3"
  }
 },
 "nbformat": 4,
 "nbformat_minor": 5
}
