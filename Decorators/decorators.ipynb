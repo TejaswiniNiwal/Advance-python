{
 "cells": [
  {
   "cell_type": "markdown",
   "id": "f42a26e7",
   "metadata": {},
   "source": [
    "## Decorators : Decorators extend the functionality without making changes to the original functions"
   ]
  },
  {
   "cell_type": "code",
   "execution_count": 1,
   "id": "2e29f641",
   "metadata": {},
   "outputs": [],
   "source": [
    "def multiply(x:int,y:int):\n",
    "    c=x*y\n",
    "    return c"
   ]
  },
  {
   "cell_type": "code",
   "execution_count": 2,
   "id": "9d283edf",
   "metadata": {},
   "outputs": [
    {
     "data": {
      "text/plain": [
       "90"
      ]
     },
     "execution_count": 2,
     "metadata": {},
     "output_type": "execute_result"
    }
   ],
   "source": [
    "multiply(45,2)"
   ]
  },
  {
   "cell_type": "code",
   "execution_count": 3,
   "id": "9ec070aa",
   "metadata": {},
   "outputs": [
    {
     "name": "stdout",
     "output_type": "stream",
     "text": [
      "Help on function multiply in module __main__:\n",
      "\n",
      "multiply(x: int, y: int)\n",
      "\n"
     ]
    }
   ],
   "source": [
    "help(multiply)"
   ]
  },
  {
   "cell_type": "code",
   "execution_count": 4,
   "id": "d7f3a27d",
   "metadata": {},
   "outputs": [
    {
     "data": {
      "text/plain": [
       "'AAA'"
      ]
     },
     "execution_count": 4,
     "metadata": {},
     "output_type": "execute_result"
    }
   ],
   "source": [
    "multiply('A',3)"
   ]
  },
  {
   "cell_type": "code",
   "execution_count": 5,
   "id": "e5f5bd12",
   "metadata": {},
   "outputs": [
    {
     "data": {
      "text/plain": [
       "'AAA'"
      ]
     },
     "execution_count": 5,
     "metadata": {},
     "output_type": "execute_result"
    }
   ],
   "source": [
    "'A'*3"
   ]
  },
  {
   "cell_type": "code",
   "execution_count": 6,
   "id": "8638945d",
   "metadata": {},
   "outputs": [
    {
     "data": {
      "text/plain": [
       "[1, 1, 1]"
      ]
     },
     "execution_count": 6,
     "metadata": {},
     "output_type": "execute_result"
    }
   ],
   "source": [
    "[1]*3"
   ]
  },
  {
   "cell_type": "markdown",
   "id": "11192f2a",
   "metadata": {},
   "source": [
    "## If i want to make sure the whenever user uses my function multiply, he should be able to use it only when he provides integer inputs"
   ]
  },
  {
   "cell_type": "code",
   "execution_count": 7,
   "id": "c67e5022",
   "metadata": {},
   "outputs": [
    {
     "name": "stdout",
     "output_type": "stream",
     "text": [
      "Requirement already satisfied: ensure in d:\\teju\\adv python\\repository\\venv\\lib\\site-packages (1.0.4)\n",
      "Requirement already satisfied: six>=1.11.0 in d:\\teju\\adv python\\repository\\venv\\lib\\site-packages (from ensure) (1.17.0)\n",
      "Note: you may need to restart the kernel to use updated packages.\n"
     ]
    }
   ],
   "source": [
    "pip install ensure"
   ]
  },
  {
   "cell_type": "code",
   "execution_count": 8,
   "id": "2f68dbea",
   "metadata": {},
   "outputs": [],
   "source": [
    "from ensure import ensure_annotations"
   ]
  },
  {
   "cell_type": "code",
   "execution_count": 9,
   "id": "5d978024",
   "metadata": {},
   "outputs": [],
   "source": [
    "@ensure_annotations\n",
    "def multiply2(x:int,y:int):\n",
    "    c = x*y\n",
    "    return c"
   ]
  },
  {
   "cell_type": "code",
   "execution_count": 10,
   "id": "61f6a35e",
   "metadata": {},
   "outputs": [
    {
     "data": {
      "text/plain": [
       "623"
      ]
     },
     "execution_count": 10,
     "metadata": {},
     "output_type": "execute_result"
    }
   ],
   "source": [
    "multiply2(89,7)"
   ]
  },
  {
   "cell_type": "markdown",
   "id": "14237f7a",
   "metadata": {},
   "source": [
    "## User defined decorator function syntax\n",
    "\n",
    "\n",
    "\n",
    "def decorator_name(func):\n",
    "    def wrapper(*args,**kwargs):\n",
    "        before function execution\n",
    "        result = func(*args,**kwargs)\n",
    "        after function execution\n",
    "        return result\n",
    "    return wrapper"
   ]
  },
  {
   "cell_type": "code",
   "execution_count": 11,
   "id": "172ef3a2",
   "metadata": {},
   "outputs": [],
   "source": [
    "def welcome_user(func):\n",
    "    def wrapper (*args,**kwargs):\n",
    "        print(\"Hi.Welcome to the page.\")\n",
    "        result = func(*args,**kwargs)\n",
    "        print(result)\n",
    "        print(\"Thankyou for using the code \")\n",
    "        return result\n",
    "    return wrapper    "
   ]
  },
  {
   "cell_type": "code",
   "execution_count": 12,
   "id": "e56e6074",
   "metadata": {},
   "outputs": [],
   "source": [
    "@welcome_user\n",
    "def multiply3(x:int,y:int):\n",
    "    c= x*y\n",
    "    return c"
   ]
  },
  {
   "cell_type": "code",
   "execution_count": 13,
   "id": "f6e8e4b8",
   "metadata": {},
   "outputs": [
    {
     "name": "stdout",
     "output_type": "stream",
     "text": [
      "Hi.Welcome to the page.\n",
      "4368\n",
      "Thankyou for using the code \n"
     ]
    }
   ],
   "source": [
    "m3= multiply3(56,78)"
   ]
  },
  {
   "cell_type": "code",
   "execution_count": 14,
   "id": "17a40706",
   "metadata": {},
   "outputs": [
    {
     "data": {
      "text/plain": [
       "4368"
      ]
     },
     "execution_count": 14,
     "metadata": {},
     "output_type": "execute_result"
    }
   ],
   "source": [
    "m3"
   ]
  },
  {
   "cell_type": "code",
   "execution_count": 15,
   "id": "7892b5d9",
   "metadata": {},
   "outputs": [],
   "source": [
    "@welcome_user\n",
    "def simple_interest(p,n,r):\n",
    "    return (p*n*r/100)"
   ]
  },
  {
   "cell_type": "code",
   "execution_count": 16,
   "id": "ab11c96c",
   "metadata": {},
   "outputs": [
    {
     "name": "stdout",
     "output_type": "stream",
     "text": [
      "Hi.Welcome to the page.\n",
      "7840.0\n",
      "Thankyou for using the code \n"
     ]
    }
   ],
   "source": [
    "si1 = simple_interest(56000,4,3.5)"
   ]
  },
  {
   "cell_type": "code",
   "execution_count": 17,
   "id": "6c22bb93",
   "metadata": {},
   "outputs": [],
   "source": [
    "@ensure_annotations\n",
    "@welcome_user\n",
    "def simple_interest(p:int|float,n:int|float,r:int|float):\n",
    "    return (p*n*r/100)"
   ]
  },
  {
   "cell_type": "code",
   "execution_count": 18,
   "id": "9b7b19a1",
   "metadata": {},
   "outputs": [
    {
     "name": "stdout",
     "output_type": "stream",
     "text": [
      "Hi.Welcome to the page.\n",
      "9576.0\n",
      "Thankyou for using the code \n"
     ]
    }
   ],
   "source": [
    "si2= simple_interest(56000,4.5,3.8)"
   ]
  },
  {
   "cell_type": "code",
   "execution_count": 19,
   "id": "411708d5",
   "metadata": {},
   "outputs": [
    {
     "name": "stdout",
     "output_type": "stream",
     "text": [
      "Hi.Welcome to the page.\n"
     ]
    },
    {
     "ename": "TypeError",
     "evalue": "unsupported operand type(s) for /: 'str' and 'int'",
     "output_type": "error",
     "traceback": [
      "\u001b[31m---------------------------------------------------------------------------\u001b[39m",
      "\u001b[31mTypeError\u001b[39m                                 Traceback (most recent call last)",
      "\u001b[36mCell\u001b[39m\u001b[36m \u001b[39m\u001b[32mIn[19]\u001b[39m\u001b[32m, line 1\u001b[39m\n\u001b[32m----> \u001b[39m\u001b[32m1\u001b[39m si3= \u001b[43msimple_interest\u001b[49m\u001b[43m(\u001b[49m\u001b[33;43m'\u001b[39;49m\u001b[33;43mA\u001b[39;49m\u001b[33;43m'\u001b[39;49m\u001b[43m,\u001b[49m\u001b[32;43m5\u001b[39;49m\u001b[43m,\u001b[49m\u001b[32;43m6\u001b[39;49m\u001b[43m)\u001b[49m\n",
      "\u001b[36mFile \u001b[39m\u001b[32md:\\teju\\adv python\\repository\\venv\\Lib\\site-packages\\ensure\\main.py:835\u001b[39m, in \u001b[36mWrappedFunction.__call__\u001b[39m\u001b[34m(self, *args, **kwargs)\u001b[39m\n\u001b[32m    832\u001b[39m         msg = \u001b[33m\"\u001b[39m\u001b[33mArgument \u001b[39m\u001b[38;5;132;01m{arg}\u001b[39;00m\u001b[33m of type \u001b[39m\u001b[38;5;132;01m{valt}\u001b[39;00m\u001b[33m to \u001b[39m\u001b[38;5;132;01m{f}\u001b[39;00m\u001b[33m \u001b[39m\u001b[33m\"\u001b[39m \u001b[33m\"\u001b[39m\u001b[33mdoes not match annotation type \u001b[39m\u001b[38;5;132;01m{t}\u001b[39;00m\u001b[33m\"\u001b[39m\n\u001b[32m    833\u001b[39m         \u001b[38;5;28;01mraise\u001b[39;00m EnsureError(msg.format(arg=arg, f=\u001b[38;5;28mself\u001b[39m.f, t=templ, valt=\u001b[38;5;28mtype\u001b[39m(value)))\n\u001b[32m--> \u001b[39m\u001b[32m835\u001b[39m \u001b[38;5;28;01mreturn\u001b[39;00m \u001b[38;5;28;43mself\u001b[39;49m\u001b[43m.\u001b[49m\u001b[43mf\u001b[49m\u001b[43m(\u001b[49m\u001b[43m*\u001b[49m\u001b[43margs\u001b[49m\u001b[43m,\u001b[49m\u001b[43m \u001b[49m\u001b[43m*\u001b[49m\u001b[43m*\u001b[49m\u001b[43mkwargs\u001b[49m\u001b[43m)\u001b[49m\n",
      "\u001b[36mCell\u001b[39m\u001b[36m \u001b[39m\u001b[32mIn[11]\u001b[39m\u001b[32m, line 4\u001b[39m, in \u001b[36mwelcome_user.<locals>.wrapper\u001b[39m\u001b[34m(*args, **kwargs)\u001b[39m\n\u001b[32m      2\u001b[39m \u001b[38;5;28;01mdef\u001b[39;00m\u001b[38;5;250m \u001b[39m\u001b[34mwrapper\u001b[39m (*args,**kwargs):\n\u001b[32m      3\u001b[39m     \u001b[38;5;28mprint\u001b[39m(\u001b[33m\"\u001b[39m\u001b[33mHi.Welcome to the page.\u001b[39m\u001b[33m\"\u001b[39m)\n\u001b[32m----> \u001b[39m\u001b[32m4\u001b[39m     result = \u001b[43mfunc\u001b[49m\u001b[43m(\u001b[49m\u001b[43m*\u001b[49m\u001b[43margs\u001b[49m\u001b[43m,\u001b[49m\u001b[43m*\u001b[49m\u001b[43m*\u001b[49m\u001b[43mkwargs\u001b[49m\u001b[43m)\u001b[49m\n\u001b[32m      5\u001b[39m     \u001b[38;5;28mprint\u001b[39m(result)\n\u001b[32m      6\u001b[39m     \u001b[38;5;28mprint\u001b[39m(\u001b[33m\"\u001b[39m\u001b[33mThankyou for using the code \u001b[39m\u001b[33m\"\u001b[39m)\n",
      "\u001b[36mCell\u001b[39m\u001b[36m \u001b[39m\u001b[32mIn[17]\u001b[39m\u001b[32m, line 4\u001b[39m, in \u001b[36msimple_interest\u001b[39m\u001b[34m(p, n, r)\u001b[39m\n\u001b[32m      1\u001b[39m \u001b[38;5;129m@ensure_annotations\u001b[39m\n\u001b[32m      2\u001b[39m \u001b[38;5;129m@welcome_user\u001b[39m\n\u001b[32m      3\u001b[39m \u001b[38;5;28;01mdef\u001b[39;00m\u001b[38;5;250m \u001b[39m\u001b[34msimple_interest\u001b[39m(p:\u001b[38;5;28mint\u001b[39m|\u001b[38;5;28mfloat\u001b[39m,n:\u001b[38;5;28mint\u001b[39m|\u001b[38;5;28mfloat\u001b[39m,r:\u001b[38;5;28mint\u001b[39m|\u001b[38;5;28mfloat\u001b[39m):\n\u001b[32m----> \u001b[39m\u001b[32m4\u001b[39m     \u001b[38;5;28;01mreturn\u001b[39;00m (\u001b[43mp\u001b[49m\u001b[43m*\u001b[49m\u001b[43mn\u001b[49m\u001b[43m*\u001b[49m\u001b[43mr\u001b[49m\u001b[43m/\u001b[49m\u001b[32;43m100\u001b[39;49m)\n",
      "\u001b[31mTypeError\u001b[39m: unsupported operand type(s) for /: 'str' and 'int'"
     ]
    }
   ],
   "source": [
    "si3= simple_interest('A',5,6)"
   ]
  },
  {
   "cell_type": "markdown",
   "id": "9aebc4d7",
   "metadata": {},
   "source": [
    "# Write a decorator which checks the performance of functions"
   ]
  },
  {
   "cell_type": "code",
   "execution_count": 22,
   "id": "1fec9745",
   "metadata": {},
   "outputs": [],
   "source": [
    "import time"
   ]
  },
  {
   "cell_type": "code",
   "execution_count": 23,
   "id": "84b55dd3",
   "metadata": {},
   "outputs": [],
   "source": [
    "# delay the execution time by x number of seconds time.sleep(x)\n",
    "time.sleep(5)"
   ]
  },
  {
   "cell_type": "code",
   "execution_count": 24,
   "id": "70eef41a",
   "metadata": {},
   "outputs": [
    {
     "data": {
      "text/plain": [
       "2084858.298336"
      ]
     },
     "execution_count": 24,
     "metadata": {},
     "output_type": "execute_result"
    }
   ],
   "source": [
    "time.perf_counter()"
   ]
  },
  {
   "cell_type": "code",
   "execution_count": 25,
   "id": "33d3bec3",
   "metadata": {},
   "outputs": [],
   "source": [
    "def performance_checker(func):\n",
    "    def wrapper(*args,**kwargs):\n",
    "        # before function execution, note down the time\n",
    "        start = time.perf_counter()\n",
    "        result = func(*args,**kwargs)\n",
    "        #after function execution, note down the time\n",
    "        stop = time.perf_counter()\n",
    "        # calculate the time taken to execute the function\n",
    "        time_taken = stop-start\n",
    "        #print the results\n",
    "        print(f\"Time taken to execute this function is {time_taken}\")\n",
    "        return result\n",
    "    return wrapper"
   ]
  },
  {
   "cell_type": "code",
   "execution_count": 26,
   "id": "49199de3",
   "metadata": {},
   "outputs": [],
   "source": [
    "@performance_checker\n",
    "def generate_sq(data:list):\n",
    "    new_sq = []\n",
    "    for i in data:\n",
    "        new_sq.append(i**2)\n",
    "    return new_sq"
   ]
  },
  {
   "cell_type": "code",
   "execution_count": 27,
   "id": "98863dd7",
   "metadata": {},
   "outputs": [],
   "source": [
    "l1 = [34,67,89,1245,3456,18978]"
   ]
  },
  {
   "cell_type": "code",
   "execution_count": 28,
   "id": "d867c173",
   "metadata": {},
   "outputs": [
    {
     "name": "stdout",
     "output_type": "stream",
     "text": [
      "Time taken to execute this function is 6.200047209858894e-06\n"
     ]
    }
   ],
   "source": [
    "l1_sq = generate_sq(l1)\n"
   ]
  },
  {
   "cell_type": "code",
   "execution_count": 29,
   "id": "74ef5b12",
   "metadata": {},
   "outputs": [
    {
     "data": {
      "text/plain": [
       "[1156, 4489, 7921, 1550025, 11943936, 360164484]"
      ]
     },
     "execution_count": 29,
     "metadata": {},
     "output_type": "execute_result"
    }
   ],
   "source": [
    "l1_sq"
   ]
  },
  {
   "cell_type": "code",
   "execution_count": 20,
   "id": "92564450",
   "metadata": {},
   "outputs": [
    {
     "data": {
      "text/plain": [
       "[45, 67, 78, 890, 87960]"
      ]
     },
     "execution_count": 20,
     "metadata": {},
     "output_type": "execute_result"
    }
   ],
   "source": [
    "list(map(int,input(\"Enter numeric data separated by space\").split()))"
   ]
  },
  {
   "cell_type": "code",
   "execution_count": 30,
   "id": "d3daec57",
   "metadata": {},
   "outputs": [],
   "source": [
    "@performance_checker\n",
    "def generate_sq_2():\n",
    "    data = list(map(int,input(\"Enter numeric data separated by space\").split()))\n",
    "    time.sleep(5)\n",
    "    new_sq = []\n",
    "    for i in data:\n",
    "        new_sq.append(i**2)\n",
    "    return new_sq"
   ]
  },
  {
   "cell_type": "code",
   "execution_count": 31,
   "id": "5e0b9cb0",
   "metadata": {},
   "outputs": [
    {
     "name": "stdout",
     "output_type": "stream",
     "text": [
      "Time taken to execute this function is 41.542760899988934\n"
     ]
    }
   ],
   "source": [
    "l2 = generate_sq_2()"
   ]
  },
  {
   "cell_type": "markdown",
   "id": "d3d9152f",
   "metadata": {},
   "source": [
    "## Authentication scenario\n",
    "Write a decorator which validates user details provided and allows only such users to access the function who are present in its data."
   ]
  },
  {
   "cell_type": "code",
   "execution_count": 32,
   "id": "e7aff545",
   "metadata": {},
   "outputs": [],
   "source": [
    "user_data = {\n",
    "    \"Raman\":\"R^&34amn\",\n",
    "    \"Suman\":\"S23!@mn\",\n",
    "    \"Thaman\":\"LK09%^nmb\"\n",
    "}"
   ]
  },
  {
   "cell_type": "code",
   "execution_count": 33,
   "id": "656a1934",
   "metadata": {},
   "outputs": [
    {
     "data": {
      "text/plain": [
       "'R^&34amn'"
      ]
     },
     "execution_count": 33,
     "metadata": {},
     "output_type": "execute_result"
    }
   ],
   "source": [
    "user_data[\"Raman\"]"
   ]
  },
  {
   "cell_type": "code",
   "execution_count": 34,
   "id": "b0973cb1",
   "metadata": {},
   "outputs": [
    {
     "data": {
      "text/plain": [
       "False"
      ]
     },
     "execution_count": 34,
     "metadata": {},
     "output_type": "execute_result"
    }
   ],
   "source": [
    "user_data[\"Raman\"] == 'Raman'"
   ]
  },
  {
   "cell_type": "code",
   "execution_count": 35,
   "id": "160cead4",
   "metadata": {},
   "outputs": [
    {
     "ename": "KeyError",
     "evalue": "'Baman'",
     "output_type": "error",
     "traceback": [
      "\u001b[31m---------------------------------------------------------------------------\u001b[39m",
      "\u001b[31mKeyError\u001b[39m                                  Traceback (most recent call last)",
      "\u001b[36mCell\u001b[39m\u001b[36m \u001b[39m\u001b[32mIn[35]\u001b[39m\u001b[32m, line 1\u001b[39m\n\u001b[32m----> \u001b[39m\u001b[32m1\u001b[39m \u001b[43muser_data\u001b[49m\u001b[43m[\u001b[49m\u001b[33;43m\"\u001b[39;49m\u001b[33;43mBaman\u001b[39;49m\u001b[33;43m\"\u001b[39;49m\u001b[43m]\u001b[49m\n",
      "\u001b[31mKeyError\u001b[39m: 'Baman'"
     ]
    }
   ],
   "source": [
    "\n",
    "user_data[\"Baman\"]"
   ]
  },
  {
   "cell_type": "code",
   "execution_count": 36,
   "id": "84d034d3",
   "metadata": {},
   "outputs": [
    {
     "data": {
      "text/plain": [
       "'R^&34amn'"
      ]
     },
     "execution_count": 36,
     "metadata": {},
     "output_type": "execute_result"
    }
   ],
   "source": [
    "user_data.get(\"Raman\")"
   ]
  },
  {
   "cell_type": "code",
   "execution_count": 37,
   "id": "98285e42",
   "metadata": {},
   "outputs": [],
   "source": [
    "# if user is not present, user_data.get(key) will not throw an error\n",
    "user_data.get(\"Baman\") # internally it gives None keyword"
   ]
  },
  {
   "cell_type": "code",
   "execution_count": 38,
   "id": "d1d03b1f",
   "metadata": {},
   "outputs": [
    {
     "data": {
      "text/plain": [
       "'Not Available'"
      ]
     },
     "execution_count": 38,
     "metadata": {},
     "output_type": "execute_result"
    }
   ],
   "source": [
    "\n",
    "user_data.get(\"Baman\",\"Not Available\")"
   ]
  },
  {
   "cell_type": "code",
   "execution_count": 39,
   "id": "9a3f7ff5",
   "metadata": {},
   "outputs": [
    {
     "data": {
      "text/plain": [
       "False"
      ]
     },
     "execution_count": 39,
     "metadata": {},
     "output_type": "execute_result"
    }
   ],
   "source": [
    "\n",
    "user_data.get(\"Raman\") == \"Raman\""
   ]
  },
  {
   "cell_type": "code",
   "execution_count": 40,
   "id": "0d5d0710",
   "metadata": {},
   "outputs": [
    {
     "data": {
      "text/plain": [
       "False"
      ]
     },
     "execution_count": 40,
     "metadata": {},
     "output_type": "execute_result"
    }
   ],
   "source": [
    "\n",
    "user_data.get(\"Baman\") == \"Raman\""
   ]
  },
  {
   "cell_type": "code",
   "execution_count": 41,
   "id": "df07e90f",
   "metadata": {},
   "outputs": [
    {
     "data": {
      "text/plain": [
       "{'Raman': 'R^&34amn', 'Suman': 'S23!@mn', 'Thaman': 'LK09%^nmb'}"
      ]
     },
     "execution_count": 41,
     "metadata": {},
     "output_type": "execute_result"
    }
   ],
   "source": [
    "\n",
    "user_data"
   ]
  },
  {
   "cell_type": "code",
   "execution_count": 42,
   "id": "5dfd96e8",
   "metadata": {},
   "outputs": [],
   "source": [
    "def authenticator(func):\n",
    "    def wrapper(username,password,*args,**kwargs):\n",
    "        if username in user_data.keys() and password in user_data.get(username):\n",
    "            print(f\"Welcome to this page {username}\")\n",
    "            result = func(username,password,*args,**kwargs)\n",
    "            print(f\"Function got executed successfuly. Results are {result}\")\n",
    "            return result\n",
    "        else:\n",
    "            print(f\"Sorry {username}. Authentication is unsuccessful.Please check your credentails\")\n",
    "    return wrapper"
   ]
  },
  {
   "cell_type": "code",
   "execution_count": 43,
   "id": "df7fd19d",
   "metadata": {},
   "outputs": [],
   "source": [
    "@authenticator\n",
    "def generate_sq(username,password,data:list):\n",
    "    new_sq = []\n",
    "    for i in data:\n",
    "        new_sq.append(i**2)\n",
    "    return new_sq "
   ]
  },
  {
   "cell_type": "code",
   "execution_count": 44,
   "id": "7fda87aa",
   "metadata": {},
   "outputs": [
    {
     "name": "stdout",
     "output_type": "stream",
     "text": [
      "Welcome to this page Raman\n",
      "Function got executed successfuly. Results are [2025, 4489, 7921, 144, 1156]\n"
     ]
    }
   ],
   "source": [
    "\n",
    "g1 = generate_sq('Raman','R^&34amn',[45,67,89,12,34])"
   ]
  },
  {
   "cell_type": "code",
   "execution_count": 45,
   "id": "fd9a1cd2",
   "metadata": {},
   "outputs": [
    {
     "data": {
      "text/plain": [
       "[2025, 4489, 7921, 144, 1156]"
      ]
     },
     "execution_count": 45,
     "metadata": {},
     "output_type": "execute_result"
    }
   ],
   "source": [
    "g1"
   ]
  },
  {
   "cell_type": "code",
   "execution_count": 46,
   "id": "c5022eba",
   "metadata": {},
   "outputs": [
    {
     "name": "stdout",
     "output_type": "stream",
     "text": [
      "Sorry Raman. Authentication is unsuccessful.Please check your credentails\n"
     ]
    }
   ],
   "source": [
    "g2 = generate_sq('Raman','R90&34amn',[45,67,89,12,34])"
   ]
  },
  {
   "cell_type": "code",
   "execution_count": 47,
   "id": "026c4929",
   "metadata": {},
   "outputs": [],
   "source": [
    "@authenticator\n",
    "def fact(username,password,n):\n",
    "    p = 1\n",
    "    for i in range(1,n+1):\n",
    "        p=p*i\n",
    "    return p"
   ]
  },
  {
   "cell_type": "code",
   "execution_count": 48,
   "id": "179252e1",
   "metadata": {},
   "outputs": [
    {
     "name": "stdout",
     "output_type": "stream",
     "text": [
      "Welcome to this page Thaman\n",
      "Function got executed successfuly. Results are 30414093201713378043612608166064768844377641568960512000000000000\n"
     ]
    }
   ],
   "source": [
    "\n",
    "f1 = fact('Thaman','LK09%^nmb',50)"
   ]
  },
  {
   "cell_type": "code",
   "execution_count": 49,
   "id": "ff4722c8",
   "metadata": {},
   "outputs": [
    {
     "name": "stdout",
     "output_type": "stream",
     "text": [
      "Sorry Baman. Authentication is unsuccessful.Please check your credentails\n"
     ]
    }
   ],
   "source": [
    "\n",
    "f2 = fact('Baman','Nmanan',3)"
   ]
  },
  {
   "cell_type": "code",
   "execution_count": 50,
   "id": "341813c7",
   "metadata": {},
   "outputs": [],
   "source": [
    "f2"
   ]
  },
  {
   "cell_type": "code",
   "execution_count": null,
   "id": "5f6d409c",
   "metadata": {},
   "outputs": [],
   "source": []
  }
 ],
 "metadata": {
  "kernelspec": {
   "display_name": "venv",
   "language": "python",
   "name": "python3"
  },
  "language_info": {
   "codemirror_mode": {
    "name": "ipython",
    "version": 3
   },
   "file_extension": ".py",
   "mimetype": "text/x-python",
   "name": "python",
   "nbconvert_exporter": "python",
   "pygments_lexer": "ipython3",
   "version": "3.13.3"
  }
 },
 "nbformat": 4,
 "nbformat_minor": 5
}
