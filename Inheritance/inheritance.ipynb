{
 "cells": [
  {
   "cell_type": "markdown",
   "id": "327d6c9d",
   "metadata": {},
   "source": [
    "## inheritance"
   ]
  },
  {
   "cell_type": "markdown",
   "id": "5e5d5bd3",
   "metadata": {},
   "source": [
    "## single level inheritance"
   ]
  },
  {
   "cell_type": "code",
   "execution_count": 3,
   "id": "ce04741b",
   "metadata": {},
   "outputs": [],
   "source": [
    "class person:\n",
    "    # Tak 2 inputs from the user for this class.\n",
    "    def __init__(self,name,age):\n",
    "        self.name = name\n",
    "        self.age = age\n",
    "\n",
    " # Write a function to introduce the person\n",
    "    def introduce(self):\n",
    "        print(f\"Hi everyone, I am {self.name} and I am {self.age} years old\")\n"
   ]
  },
  {
   "cell_type": "code",
   "execution_count": 4,
   "id": "c3ac7acd",
   "metadata": {},
   "outputs": [],
   "source": [
    "p1 = person(\"Raman\",35)"
   ]
  },
  {
   "cell_type": "code",
   "execution_count": 5,
   "id": "18af9586",
   "metadata": {},
   "outputs": [
    {
     "data": {
      "text/plain": [
       "'Raman'"
      ]
     },
     "execution_count": 5,
     "metadata": {},
     "output_type": "execute_result"
    }
   ],
   "source": [
    "p1.name"
   ]
  },
  {
   "cell_type": "code",
   "execution_count": 6,
   "id": "c2fa6f10",
   "metadata": {},
   "outputs": [
    {
     "data": {
      "text/plain": [
       "35"
      ]
     },
     "execution_count": 6,
     "metadata": {},
     "output_type": "execute_result"
    }
   ],
   "source": [
    "p1.age"
   ]
  },
  {
   "cell_type": "code",
   "execution_count": 8,
   "id": "d4b31709",
   "metadata": {},
   "outputs": [
    {
     "name": "stdout",
     "output_type": "stream",
     "text": [
      "Hi everyone, I am Raman and I am 35 years old\n"
     ]
    }
   ],
   "source": [
    "p1.introduce()"
   ]
  },
  {
   "cell_type": "code",
   "execution_count": 12,
   "id": "968cb28a",
   "metadata": {},
   "outputs": [],
   "source": [
    "class employee(person):\n",
    "    # create attributes for employee class\n",
    "    def __init__(self,company,num):\n",
    "       self.company = company\n",
    "       self.num = num\n",
    "       # create a function that provides work details of person\n",
    "    def work(self):\n",
    "        print(f\"I am working at {self.company} from past {self.num}years\")"
   ]
  },
  {
   "cell_type": "code",
   "execution_count": 13,
   "id": "6033c128",
   "metadata": {},
   "outputs": [],
   "source": [
    "e2 = employee(\"wipro\",3)"
   ]
  },
  {
   "cell_type": "code",
   "execution_count": 14,
   "id": "96d77c83",
   "metadata": {},
   "outputs": [
    {
     "data": {
      "text/plain": [
       "3"
      ]
     },
     "execution_count": 14,
     "metadata": {},
     "output_type": "execute_result"
    }
   ],
   "source": [
    "e2.num"
   ]
  },
  {
   "cell_type": "code",
   "execution_count": 15,
   "id": "b7cd8c53",
   "metadata": {},
   "outputs": [
    {
     "data": {
      "text/plain": [
       "'wipro'"
      ]
     },
     "execution_count": 15,
     "metadata": {},
     "output_type": "execute_result"
    }
   ],
   "source": [
    "e2.company"
   ]
  },
  {
   "cell_type": "code",
   "execution_count": 16,
   "id": "8622c751",
   "metadata": {},
   "outputs": [
    {
     "ename": "NameError",
     "evalue": "name 'e1' is not defined",
     "output_type": "error",
     "traceback": [
      "\u001b[31m---------------------------------------------------------------------------\u001b[39m",
      "\u001b[31mNameError\u001b[39m                                 Traceback (most recent call last)",
      "\u001b[36mCell\u001b[39m\u001b[36m \u001b[39m\u001b[32mIn[16]\u001b[39m\u001b[32m, line 1\u001b[39m\n\u001b[32m----> \u001b[39m\u001b[32m1\u001b[39m \u001b[43me1\u001b[49m.employee()\n",
      "\u001b[31mNameError\u001b[39m: name 'e1' is not defined"
     ]
    }
   ],
   "source": [
    "e1.employee()"
   ]
  },
  {
   "cell_type": "code",
   "execution_count": 17,
   "id": "020ec0b0",
   "metadata": {},
   "outputs": [
    {
     "ename": "AttributeError",
     "evalue": "'employee' object has no attribute 'age'",
     "output_type": "error",
     "traceback": [
      "\u001b[31m---------------------------------------------------------------------------\u001b[39m",
      "\u001b[31mAttributeError\u001b[39m                            Traceback (most recent call last)",
      "\u001b[36mCell\u001b[39m\u001b[36m \u001b[39m\u001b[32mIn[17]\u001b[39m\u001b[32m, line 1\u001b[39m\n\u001b[32m----> \u001b[39m\u001b[32m1\u001b[39m \u001b[43me2\u001b[49m\u001b[43m.\u001b[49m\u001b[43mage\u001b[49m\n",
      "\u001b[31mAttributeError\u001b[39m: 'employee' object has no attribute 'age'"
     ]
    }
   ],
   "source": [
    "e2.age"
   ]
  },
  {
   "cell_type": "markdown",
   "id": "9ee513d4",
   "metadata": {},
   "source": [
    "## All above errors are valid errors. because, we haven't provided any link between parent attributes and child class"
   ]
  },
  {
   "cell_type": "code",
   "execution_count": 18,
   "id": "60bfbed7",
   "metadata": {},
   "outputs": [],
   "source": [
    "class employee2(person):\n",
    "    def __init__(self,name,age,company,num):\n",
    "        super().__init__(name,age)\n",
    "        # person.__init__(name, age)\n",
    "        self.company = company\n",
    "        self.num = num\n",
    "\n",
    "        \"\"\"\n",
    "         def __init__(self,company,num):\n",
    "        self.company = company\n",
    "        self.num = num\n",
    "        \n",
    "        \"\"\"\n",
    "# create a function that provides work details of person\n",
    "    def work(self):\n",
    "        super().introduce()\n",
    "        print(f\"I am working at {self.company} from past {self.num}years\")\n",
    "\n"
   ]
  },
  {
   "cell_type": "code",
   "execution_count": 19,
   "id": "3c23aef1",
   "metadata": {},
   "outputs": [],
   "source": [
    "\n",
    "\n",
    "e3 = employee2(\"Raman\",45,\"Wipro\",3)"
   ]
  },
  {
   "cell_type": "code",
   "execution_count": 20,
   "id": "e1d4264d",
   "metadata": {},
   "outputs": [
    {
     "data": {
      "text/plain": [
       "45"
      ]
     },
     "execution_count": 20,
     "metadata": {},
     "output_type": "execute_result"
    }
   ],
   "source": [
    "e3.age"
   ]
  },
  {
   "cell_type": "code",
   "execution_count": 21,
   "id": "48e30e91",
   "metadata": {},
   "outputs": [
    {
     "data": {
      "text/plain": [
       "'Wipro'"
      ]
     },
     "execution_count": 21,
     "metadata": {},
     "output_type": "execute_result"
    }
   ],
   "source": [
    "e3.company"
   ]
  },
  {
   "cell_type": "code",
   "execution_count": 22,
   "id": "06db297e",
   "metadata": {},
   "outputs": [
    {
     "data": {
      "text/plain": [
       "'Raman'"
      ]
     },
     "execution_count": 22,
     "metadata": {},
     "output_type": "execute_result"
    }
   ],
   "source": [
    "e3.name"
   ]
  },
  {
   "cell_type": "code",
   "execution_count": 23,
   "id": "7ada9dbe",
   "metadata": {},
   "outputs": [
    {
     "name": "stdout",
     "output_type": "stream",
     "text": [
      "Hi everyone, I am Raman and I am 45 years old\n",
      "I am working at Wipro from past 3years\n"
     ]
    }
   ],
   "source": [
    "e3.work()"
   ]
  },
  {
   "cell_type": "markdown",
   "id": "82f6c3e5",
   "metadata": {},
   "source": [
    "## Multilevel Inheritance"
   ]
  },
  {
   "cell_type": "code",
   "execution_count": 24,
   "id": "8f1605bf",
   "metadata": {},
   "outputs": [],
   "source": [
    "#parent class\n",
    "class emp:\n",
    "    def __init__(self,name,employee_id):\n",
    "        self.name = name\n",
    "        self.employee_id = employee_id\n",
    "    \n",
    "    def get_emp_info(self):\n",
    "        return (f\"Employee details are : Name: {self.name}, ID: {self.employee_id}\")"
   ]
  },
  {
   "cell_type": "code",
   "execution_count": 25,
   "id": "564670f1",
   "metadata": {},
   "outputs": [],
   "source": [
    "# child class1\n",
    "class manager(emp):\n",
    "    def __init__(self, name, employee_id,department):\n",
    "        super().__init__(name, employee_id)\n",
    "        self.department = department\n",
    "\n",
    "    def get_dept_info(self):\n",
    "        return (f\"Employee department details are : {self.get_emp_info()}, Department: {self.department}\")"
   ]
  },
  {
   "cell_type": "code",
   "execution_count": 26,
   "id": "0817a732",
   "metadata": {},
   "outputs": [],
   "source": [
    "#child class 2\n",
    "class projectmanager(manager):\n",
    "    def __init__(self, name, employee_id, department,project):\n",
    "        super().__init__(name, employee_id, department)\n",
    "        self.project = project\n",
    "\n",
    "    def get_project_info(self):\n",
    "        return (f\"Employee details are : {self.get_dept_info()},Project: {self.project}\")\n",
    "\n"
   ]
  },
  {
   "cell_type": "code",
   "execution_count": 27,
   "id": "9d3a6aaf",
   "metadata": {},
   "outputs": [],
   "source": [
    "pm1 = projectmanager(\"Thaman\",234234,\"Finance\",\"PM108\")"
   ]
  },
  {
   "cell_type": "code",
   "execution_count": 28,
   "id": "49fbcb0d",
   "metadata": {},
   "outputs": [
    {
     "data": {
      "text/plain": [
       "'Thaman'"
      ]
     },
     "execution_count": 28,
     "metadata": {},
     "output_type": "execute_result"
    }
   ],
   "source": [
    "pm1.name"
   ]
  },
  {
   "cell_type": "code",
   "execution_count": 29,
   "id": "e429da7d",
   "metadata": {},
   "outputs": [
    {
     "data": {
      "text/plain": [
       "'PM108'"
      ]
     },
     "execution_count": 29,
     "metadata": {},
     "output_type": "execute_result"
    }
   ],
   "source": [
    "pm1.project"
   ]
  },
  {
   "cell_type": "code",
   "execution_count": 30,
   "id": "b5d3750f",
   "metadata": {},
   "outputs": [
    {
     "data": {
      "text/plain": [
       "'Employee details are : Name: Thaman, ID: 234234'"
      ]
     },
     "execution_count": 30,
     "metadata": {},
     "output_type": "execute_result"
    }
   ],
   "source": [
    "\n",
    "\n",
    "pm1.get_emp_info()"
   ]
  },
  {
   "cell_type": "code",
   "execution_count": 31,
   "id": "dd6f19d4",
   "metadata": {},
   "outputs": [
    {
     "data": {
      "text/plain": [
       "'Employee department details are : Employee details are : Name: Thaman, ID: 234234, Department: Finance'"
      ]
     },
     "execution_count": 31,
     "metadata": {},
     "output_type": "execute_result"
    }
   ],
   "source": [
    "pm1.get_dept_info()"
   ]
  },
  {
   "cell_type": "code",
   "execution_count": 32,
   "id": "1c220841",
   "metadata": {},
   "outputs": [
    {
     "data": {
      "text/plain": [
       "'Employee details are : Employee department details are : Employee details are : Name: Thaman, ID: 234234, Department: Finance,Project: PM108'"
      ]
     },
     "execution_count": 32,
     "metadata": {},
     "output_type": "execute_result"
    }
   ],
   "source": [
    "\n",
    "\n",
    "pm1.get_project_info()"
   ]
  },
  {
   "cell_type": "markdown",
   "id": "cf2af74d",
   "metadata": {},
   "source": [
    "## hierarchal inheritance"
   ]
  },
  {
   "cell_type": "code",
   "execution_count": 33,
   "id": "95bb49ea",
   "metadata": {},
   "outputs": [],
   "source": [
    "class garve_hyundai:\n",
    "    def __init__(self,name,location):\n",
    "        self.name = name\n",
    "        self.location = location\n",
    "    def greeting(self):\n",
    "        print(f\"Hello {self.name}. Welcome to the showroom.\")\n",
    "    \n",
    "    def models(self):\n",
    "        print(\"We have latest models available at the showroom like Grandi10,Grandi20\")"
   ]
  },
  {
   "cell_type": "code",
   "execution_count": 34,
   "id": "e42ed903",
   "metadata": {},
   "outputs": [],
   "source": [
    "#child class1\n",
    "class grandi10(garve_hyundai):\n",
    "    def __init__(self, name, location,price_lookup):\n",
    "        super().__init__(name, location)\n",
    "        self.price_lookup = price_lookup\n",
    "    \n",
    "    def enquiry_price(self):\n",
    "        super().greeting()\n",
    "        print(\"Price range of this car is 9Lakhs\")\n",
    "        if self.price_lookup>10:\n",
    "            print(f\"Please check our best models falling under the same range with additional features\")\n",
    "    \n"
   ]
  },
  {
   "cell_type": "code",
   "execution_count": 35,
   "id": "c2fffa71",
   "metadata": {},
   "outputs": [],
   "source": [
    "#child class 2\n",
    "class grandi20(garve_hyundai):\n",
    "    def __init__(self, name, location,price_range):\n",
    "        super().__init__(name, location)\n",
    "        self.price_range = price_range\n",
    "    \n",
    "    def enquiry_price(self):\n",
    "        super().greeting()\n",
    "        print(\"Price range of this car is 20Lakhs\")\n",
    "        if self.price_range<10:\n",
    "            print(f\"Please check our best models falling under the same range with additional features\")\n",
    "\n"
   ]
  },
  {
   "cell_type": "code",
   "execution_count": 36,
   "id": "a5cb502b",
   "metadata": {},
   "outputs": [],
   "source": [
    "gi10 = grandi10(\"Suman\",\"Wakad\",18)\n"
   ]
  },
  {
   "cell_type": "code",
   "execution_count": 37,
   "id": "068fbbaa",
   "metadata": {},
   "outputs": [
    {
     "name": "stdout",
     "output_type": "stream",
     "text": [
      "Hello Suman. Welcome to the showroom.\n",
      "Price range of this car is 9Lakhs\n",
      "Please check our best models falling under the same range with additional features\n"
     ]
    }
   ],
   "source": [
    "gi10.enquiry_price()"
   ]
  },
  {
   "cell_type": "code",
   "execution_count": 38,
   "id": "570941c1",
   "metadata": {},
   "outputs": [],
   "source": [
    "gi20 = grandi20(\"Naman\",\"Rahtani\",7)"
   ]
  },
  {
   "cell_type": "code",
   "execution_count": 39,
   "id": "c05061b8",
   "metadata": {},
   "outputs": [
    {
     "name": "stdout",
     "output_type": "stream",
     "text": [
      "Hello Naman. Welcome to the showroom.\n",
      "Price range of this car is 20Lakhs\n",
      "Please check our best models falling under the same range with additional features\n"
     ]
    }
   ],
   "source": [
    "gi20.enquiry_price()"
   ]
  },
  {
   "cell_type": "code",
   "execution_count": 40,
   "id": "49afaa98",
   "metadata": {},
   "outputs": [],
   "source": [
    "gi20_2 = grandi20(\"Chaman\",\"Pimpri\",17)"
   ]
  },
  {
   "cell_type": "code",
   "execution_count": 41,
   "id": "5feeb385",
   "metadata": {},
   "outputs": [
    {
     "name": "stdout",
     "output_type": "stream",
     "text": [
      "Hello Chaman. Welcome to the showroom.\n",
      "Price range of this car is 20Lakhs\n"
     ]
    }
   ],
   "source": [
    "\n",
    "\n",
    "gi20_2.enquiry_price()"
   ]
  },
  {
   "cell_type": "code",
   "execution_count": null,
   "id": "a3021fe2",
   "metadata": {},
   "outputs": [],
   "source": []
  }
 ],
 "metadata": {
  "kernelspec": {
   "display_name": "venv",
   "language": "python",
   "name": "python3"
  },
  "language_info": {
   "codemirror_mode": {
    "name": "ipython",
    "version": 3
   },
   "file_extension": ".py",
   "mimetype": "text/x-python",
   "name": "python",
   "nbconvert_exporter": "python",
   "pygments_lexer": "ipython3",
   "version": "3.13.3"
  }
 },
 "nbformat": 4,
 "nbformat_minor": 5
}
