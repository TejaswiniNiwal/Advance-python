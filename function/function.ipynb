{
 "cells": [
  {
   "cell_type": "code",
   "execution_count": null,
   "id": "257bcd4c",
   "metadata": {},
   "outputs": [],
   "source": [
    "def add(x,y):\n",
    "    \"\"\" \n",
    "    This functions takes 2 parameters are inputs and returns addition\n",
    "    \"\"\"\n",
    "    c = x+y\n",
    "    return c"
   ]
  },
  {
   "cell_type": "code",
   "execution_count": 3,
   "id": "3fe88ce0",
   "metadata": {},
   "outputs": [],
   "source": [
    "a1 = add(34,56)"
   ]
  },
  {
   "cell_type": "code",
   "execution_count": 4,
   "id": "f10cad03",
   "metadata": {},
   "outputs": [
    {
     "name": "stdout",
     "output_type": "stream",
     "text": [
      "90\n"
     ]
    }
   ],
   "source": [
    "print(a1)"
   ]
  },
  {
   "cell_type": "code",
   "execution_count": 5,
   "id": "26a04c1d",
   "metadata": {},
   "outputs": [
    {
     "data": {
      "text/plain": [
       "112"
      ]
     },
     "execution_count": 5,
     "metadata": {},
     "output_type": "execute_result"
    }
   ],
   "source": [
    "add (45,67)"
   ]
  },
  {
   "cell_type": "markdown",
   "id": "5ccc5c2b",
   "metadata": {},
   "source": [
    "## Variadic Functions"
   ]
  },
  {
   "cell_type": "code",
   "execution_count": 6,
   "id": "fede117d",
   "metadata": {},
   "outputs": [
    {
     "data": {
      "text/plain": [
       "145"
      ]
     },
     "execution_count": 6,
     "metadata": {},
     "output_type": "execute_result"
    }
   ],
   "source": [
    "add (56,89)"
   ]
  },
  {
   "cell_type": "code",
   "execution_count": 7,
   "id": "9acf74a9",
   "metadata": {},
   "outputs": [],
   "source": [
    "def add1(*args):\n",
    "    for i in args:\n",
    "        print(i) "
   ]
  },
  {
   "cell_type": "code",
   "execution_count": 8,
   "id": "38b645a5",
   "metadata": {},
   "outputs": [
    {
     "name": "stdout",
     "output_type": "stream",
     "text": [
      "45\n",
      "56\n",
      "78\n",
      "89\n"
     ]
    }
   ],
   "source": [
    "add1(45,56,78,89)"
   ]
  },
  {
   "cell_type": "code",
   "execution_count": 9,
   "id": "0f26de59",
   "metadata": {},
   "outputs": [],
   "source": [
    "def add2(*args):\n",
    "    s = 0\n",
    "    for i in args:\n",
    "        #print(i)\n",
    "        s = s+i\n",
    "    return s"
   ]
  },
  {
   "cell_type": "code",
   "execution_count": 10,
   "id": "a0262c2f",
   "metadata": {},
   "outputs": [
    {
     "data": {
      "text/plain": [
       "348"
      ]
     },
     "execution_count": 10,
     "metadata": {},
     "output_type": "execute_result"
    }
   ],
   "source": [
    "s1 = add2(45,67,89,23,12,67,45)\n",
    "s1"
   ]
  },
  {
   "cell_type": "code",
   "execution_count": 11,
   "id": "42d4629c",
   "metadata": {},
   "outputs": [],
   "source": [
    "def multiply(x,*args):\n",
    "    \"\"\"\n",
    "    Inputs: X and multiple arguments\n",
    "    Output: Returns a welcome statement along with product of given arguments\n",
    "    \"\"\"\n",
    "    welcome = f\"Welcome {x}\"\n",
    "    p = 1\n",
    "    for i in args:\n",
    "        p = i*p\n",
    "    return f\"{welcome}. Product of given data is {p}\"\n",
    "    #return f\"welcome {x}.Product of given data is {p}\". "
   ]
  },
  {
   "cell_type": "code",
   "execution_count": 12,
   "id": "a38eb9bc",
   "metadata": {},
   "outputs": [],
   "source": [
    "m1 = multiply(\"Raman\",67,78,34,23,34)"
   ]
  },
  {
   "cell_type": "code",
   "execution_count": 13,
   "id": "61521515",
   "metadata": {},
   "outputs": [
    {
     "data": {
      "text/plain": [
       "'Welcome Raman. Product of given data is 138948888'"
      ]
     },
     "execution_count": 13,
     "metadata": {},
     "output_type": "execute_result"
    }
   ],
   "source": [
    "m1"
   ]
  },
  {
   "cell_type": "markdown",
   "id": "673722c1",
   "metadata": {},
   "source": [
    "## I have employee data with me. Emp ids and empnames are stored in lists.I want to update their department details , let's assume IT department."
   ]
  },
  {
   "cell_type": "code",
   "execution_count": 14,
   "id": "07cec553",
   "metadata": {},
   "outputs": [],
   "source": [
    "employee1 = [101,\"Raman\"]\n",
    "employee2 = [102,\"Thaman\"]\n",
    "employee3 = [103,\"Suman\"]"
   ]
  },
  {
   "cell_type": "code",
   "execution_count": 15,
   "id": "5c8eb9de",
   "metadata": {},
   "outputs": [],
   "source": [
    "def add_dept(*args):\n",
    "    for i in args:\n",
    "        i.append(\"IT\")"
   ]
  },
  {
   "cell_type": "code",
   "execution_count": 16,
   "id": "f9ef1b4f",
   "metadata": {},
   "outputs": [],
   "source": [
    "\n",
    "add_dept(employee1,employee2,employee3)"
   ]
  },
  {
   "cell_type": "code",
   "execution_count": 17,
   "id": "3e3993d0",
   "metadata": {},
   "outputs": [
    {
     "data": {
      "text/plain": [
       "[101, 'Raman', 'IT']"
      ]
     },
     "execution_count": 17,
     "metadata": {},
     "output_type": "execute_result"
    }
   ],
   "source": [
    "employee1"
   ]
  },
  {
   "cell_type": "code",
   "execution_count": 18,
   "id": "52411325",
   "metadata": {},
   "outputs": [
    {
     "data": {
      "text/plain": [
       "[102, 'Thaman', 'IT']"
      ]
     },
     "execution_count": 18,
     "metadata": {},
     "output_type": "execute_result"
    }
   ],
   "source": [
    "employee2"
   ]
  },
  {
   "cell_type": "code",
   "execution_count": 19,
   "id": "9de8a1ea",
   "metadata": {},
   "outputs": [
    {
     "data": {
      "text/plain": [
       "[103, 'Suman', 'IT']"
      ]
     },
     "execution_count": 19,
     "metadata": {},
     "output_type": "execute_result"
    }
   ],
   "source": [
    "employee3"
   ]
  },
  {
   "cell_type": "markdown",
   "id": "a206afcf",
   "metadata": {},
   "source": [
    "## Keyword arguments **kwargs"
   ]
  },
  {
   "cell_type": "code",
   "execution_count": 20,
   "id": "2a636546",
   "metadata": {},
   "outputs": [
    {
     "data": {
      "text/plain": [
       "134"
      ]
     },
     "execution_count": 20,
     "metadata": {},
     "output_type": "execute_result"
    }
   ],
   "source": [
    "add(56,78)"
   ]
  },
  {
   "cell_type": "code",
   "execution_count": 21,
   "id": "33ffc9cb",
   "metadata": {},
   "outputs": [
    {
     "data": {
      "text/plain": [
       "90"
      ]
     },
     "execution_count": 21,
     "metadata": {},
     "output_type": "execute_result"
    }
   ],
   "source": [
    "add(y=67,x=23)"
   ]
  },
  {
   "cell_type": "code",
   "execution_count": 22,
   "id": "03297079",
   "metadata": {},
   "outputs": [],
   "source": [
    "def func(**kwargs):\n",
    "    print(type(kwargs))\n",
    "    print(kwargs.items())"
   ]
  },
  {
   "cell_type": "code",
   "execution_count": 23,
   "id": "3505b831",
   "metadata": {},
   "outputs": [],
   "source": [
    "dct = {\n",
    "    \"emp\":101,\n",
    "    \"dept\":\"HR\"\n",
    "}"
   ]
  },
  {
   "cell_type": "code",
   "execution_count": 24,
   "id": "108235be",
   "metadata": {},
   "outputs": [
    {
     "data": {
      "text/plain": [
       "dict"
      ]
     },
     "execution_count": 24,
     "metadata": {},
     "output_type": "execute_result"
    }
   ],
   "source": [
    "type(dct)"
   ]
  },
  {
   "cell_type": "code",
   "execution_count": 25,
   "id": "e80fea6e",
   "metadata": {},
   "outputs": [
    {
     "data": {
      "text/plain": [
       "dict_items([('emp', 101), ('dept', 'HR')])"
      ]
     },
     "execution_count": 25,
     "metadata": {},
     "output_type": "execute_result"
    }
   ],
   "source": [
    "dct.items()"
   ]
  },
  {
   "cell_type": "code",
   "execution_count": 26,
   "id": "4e95cb80",
   "metadata": {},
   "outputs": [
    {
     "name": "stdout",
     "output_type": "stream",
     "text": [
      "<class 'dict'>\n",
      "dict_items([('id', 101), ('dept', 'hr')])\n"
     ]
    }
   ],
   "source": [
    "func(id=101,dept=\"hr\")"
   ]
  },
  {
   "cell_type": "code",
   "execution_count": 27,
   "id": "4a4c0f1d",
   "metadata": {},
   "outputs": [],
   "source": [
    "def func2(**kwargs):\n",
    "    print(kwargs.keys())\n",
    "    print(kwargs.values())"
   ]
  },
  {
   "cell_type": "code",
   "execution_count": 28,
   "id": "66f1d47f",
   "metadata": {},
   "outputs": [
    {
     "name": "stdout",
     "output_type": "stream",
     "text": [
      "dict_keys(['ids', 'depts'])\n",
      "dict_values([[101, 201, 301], ('hr', 'sales', 'marketing')])\n"
     ]
    }
   ],
   "source": [
    "\n",
    "func2(ids=[101,201,301],depts=(\"hr\",\"sales\",\"marketing\"))"
   ]
  },
  {
   "cell_type": "markdown",
   "id": "d5cc4dbf",
   "metadata": {},
   "source": [
    "## Write a function that returns the length of input items passed to it. Return a dictionary as output of function mentioning cooresponding key and length of item as value"
   ]
  },
  {
   "cell_type": "code",
   "execution_count": 29,
   "id": "1daac5cf",
   "metadata": {},
   "outputs": [
    {
     "data": {
      "text/plain": [
       "[101, 'Raman', 'IT']"
      ]
     },
     "execution_count": 29,
     "metadata": {},
     "output_type": "execute_result"
    }
   ],
   "source": [
    "employee1"
   ]
  },
  {
   "cell_type": "code",
   "execution_count": 30,
   "id": "43880616",
   "metadata": {},
   "outputs": [],
   "source": [
    "employee2.append(67000)"
   ]
  },
  {
   "cell_type": "code",
   "execution_count": 31,
   "id": "67469943",
   "metadata": {},
   "outputs": [
    {
     "data": {
      "text/plain": [
       "[102, 'Thaman', 'IT', 67000]"
      ]
     },
     "execution_count": 31,
     "metadata": {},
     "output_type": "execute_result"
    }
   ],
   "source": [
    "employee2"
   ]
  },
  {
   "cell_type": "code",
   "execution_count": 32,
   "id": "6de089b8",
   "metadata": {},
   "outputs": [],
   "source": [
    "employee3.append(76000)"
   ]
  },
  {
   "cell_type": "code",
   "execution_count": 33,
   "id": "5c0af261",
   "metadata": {},
   "outputs": [],
   "source": [
    "employee3.append(True)"
   ]
  },
  {
   "cell_type": "code",
   "execution_count": 34,
   "id": "ff3e7139",
   "metadata": {},
   "outputs": [
    {
     "data": {
      "text/plain": [
       "[103, 'Suman', 'IT', 76000, True]"
      ]
     },
     "execution_count": 34,
     "metadata": {},
     "output_type": "execute_result"
    }
   ],
   "source": [
    "employee3"
   ]
  },
  {
   "cell_type": "code",
   "execution_count": 35,
   "id": "768c4dd6",
   "metadata": {},
   "outputs": [
    {
     "data": {
      "text/plain": [
       "{'emp': 101, 'dept': 'HR'}"
      ]
     },
     "execution_count": 35,
     "metadata": {},
     "output_type": "execute_result"
    }
   ],
   "source": [
    "dct"
   ]
  },
  {
   "cell_type": "code",
   "execution_count": 36,
   "id": "f159b095",
   "metadata": {},
   "outputs": [
    {
     "name": "stdout",
     "output_type": "stream",
     "text": [
      "key is : emp\n",
      "value is 101\n",
      "key is : dept\n",
      "value is HR\n"
     ]
    }
   ],
   "source": [
    "for k,v in dct.items():\n",
    "    print(f\"key is : {k}\")\n",
    "    print(f\"value is {v}\")"
   ]
  },
  {
   "cell_type": "code",
   "execution_count": 37,
   "id": "0a66c3ad",
   "metadata": {},
   "outputs": [],
   "source": [
    "def len_data(**kwargs):\n",
    "    dct = {}\n",
    "    for key,data in kwargs.items():\n",
    "        dct[key] = len(data)\n",
    "        # dct[emp1]=len(employee1)\n",
    "        # dct[emp2]=len(employee2)\n",
    "        # dct[emp3] = len(employee3)\n",
    "    return dct\n",
    "    # dct.items() : ((emp1,3),(emp2,4),(emp3,5))"
   ]
  },
  {
   "cell_type": "code",
   "execution_count": 38,
   "id": "62c5ac56",
   "metadata": {},
   "outputs": [
    {
     "data": {
      "text/plain": [
       "{'emp1': 3, 'emp2': 4, 'emp3': 5}"
      ]
     },
     "execution_count": 38,
     "metadata": {},
     "output_type": "execute_result"
    }
   ],
   "source": [
    "\n",
    "len_data(emp1=employee1,emp2=employee2,emp3=employee3)"
   ]
  },
  {
   "cell_type": "markdown",
   "id": "ba4e2b1e",
   "metadata": {},
   "source": [
    "## Write a function that takes student name and marks as input."
   ]
  },
  {
   "cell_type": "code",
   "execution_count": null,
   "id": "12ad4f59",
   "metadata": {},
   "outputs": [],
   "source": []
  }
 ],
 "metadata": {
  "kernelspec": {
   "display_name": "venv",
   "language": "python",
   "name": "python3"
  },
  "language_info": {
   "codemirror_mode": {
    "name": "ipython",
    "version": 3
   },
   "file_extension": ".py",
   "mimetype": "text/x-python",
   "name": "python",
   "nbconvert_exporter": "python",
   "pygments_lexer": "ipython3",
   "version": "3.13.3"
  }
 },
 "nbformat": 4,
 "nbformat_minor": 5
}
