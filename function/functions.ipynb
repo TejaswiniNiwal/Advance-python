{
 "cells": [
  {
   "cell_type": "markdown",
   "id": "b93222b5",
   "metadata": {},
   "source": [
    "# functions"
   ]
  },
  {
   "cell_type": "code",
   "execution_count": 1,
   "id": "166bcc57",
   "metadata": {},
   "outputs": [],
   "source": [
    "def add(x,y):\n",
    "    \"\"\" \n",
    "    This functions takes 2 parameters are inputs and returns addition\n",
    "    \"\"\"\n",
    "    c=x+y\n",
    "    return c"
   ]
  },
  {
   "cell_type": "code",
   "execution_count": 2,
   "id": "aa5bdc8c",
   "metadata": {},
   "outputs": [],
   "source": [
    "a1= add(34,56)"
   ]
  },
  {
   "cell_type": "code",
   "execution_count": 3,
   "id": "396c489d",
   "metadata": {},
   "outputs": [
    {
     "name": "stdout",
     "output_type": "stream",
     "text": [
      "90\n"
     ]
    }
   ],
   "source": [
    "print(a1)"
   ]
  },
  {
   "cell_type": "code",
   "execution_count": 4,
   "id": "a42272b3",
   "metadata": {},
   "outputs": [
    {
     "data": {
      "text/plain": [
       "145"
      ]
     },
     "execution_count": 4,
     "metadata": {},
     "output_type": "execute_result"
    }
   ],
   "source": [
    "add (56,89)"
   ]
  },
  {
   "cell_type": "markdown",
   "id": "18b27ecd",
   "metadata": {},
   "source": [
    "## Variadic Function"
   ]
  },
  {
   "cell_type": "code",
   "execution_count": 5,
   "id": "c5ae8db5",
   "metadata": {},
   "outputs": [],
   "source": [
    "def add1(*args):\n",
    "    for i in args:\n",
    "        print(i)"
   ]
  },
  {
   "cell_type": "code",
   "execution_count": 6,
   "id": "6f0ba8d6",
   "metadata": {},
   "outputs": [
    {
     "name": "stdout",
     "output_type": "stream",
     "text": [
      "45\n",
      "56\n",
      "78\n",
      "89\n"
     ]
    }
   ],
   "source": [
    "add1(45,56,78,89)"
   ]
  },
  {
   "cell_type": "code",
   "execution_count": 7,
   "id": "8898d99d",
   "metadata": {},
   "outputs": [],
   "source": [
    "def add2(*args):\n",
    "    s=0\n",
    "    for i in args:\n",
    "        s=s+i\n",
    "    return s    "
   ]
  },
  {
   "cell_type": "code",
   "execution_count": 9,
   "id": "1b70eb63",
   "metadata": {},
   "outputs": [
    {
     "data": {
      "text/plain": [
       "348"
      ]
     },
     "execution_count": 9,
     "metadata": {},
     "output_type": "execute_result"
    }
   ],
   "source": [
    "s1= add2(45,67,89,23,12,67,45)\n",
    "s1"
   ]
  },
  {
   "cell_type": "code",
   "execution_count": 13,
   "id": "1e21571a",
   "metadata": {},
   "outputs": [],
   "source": [
    "def multiply(x,*args):\n",
    "    \"\"\"\n",
    "    Inputs: X and multiple arguments\n",
    "    Output: Returns a welcome statement along with product of given arguments\n",
    "    \"\"\"\n",
    "    welcome = f\"Welcome {x}\"\n",
    "    p = 1\n",
    "    for i in args:\n",
    "        p = i*p\n",
    "    return f\"{welcome}. Product of given data is {p}\"\n",
    "    #return f\"welcome {x}.Product of given data is {p}\". "
   ]
  },
  {
   "cell_type": "code",
   "execution_count": 14,
   "id": "92fbe764",
   "metadata": {},
   "outputs": [],
   "source": [
    "m1 = multiply(\"Raman\",67,78,34,23,34)"
   ]
  },
  {
   "cell_type": "code",
   "execution_count": 15,
   "id": "70eceb1e",
   "metadata": {},
   "outputs": [
    {
     "data": {
      "text/plain": [
       "'Welcome Raman. Product of given data is 138948888'"
      ]
     },
     "execution_count": 15,
     "metadata": {},
     "output_type": "execute_result"
    }
   ],
   "source": [
    "m1"
   ]
  },
  {
   "cell_type": "markdown",
   "id": "e928a61c",
   "metadata": {},
   "source": [
    "## I have employee data with me. Emp ids and empnames are stored in lists.I want to update their department details , let's assume IT department.\n"
   ]
  },
  {
   "cell_type": "code",
   "execution_count": 16,
   "id": "1db39a4a",
   "metadata": {},
   "outputs": [],
   "source": [
    "employee1 = [101,\"Raman\"]\n",
    "employee2 = [102,\"Thaman\"]\n",
    "employee3 = [103,\"Suman\"]\n"
   ]
  },
  {
   "cell_type": "code",
   "execution_count": 17,
   "id": "d43688ab",
   "metadata": {},
   "outputs": [],
   "source": [
    "def add_dept(*args):\n",
    "    for i in args:\n",
    "        i.append(\"IT\")"
   ]
  },
  {
   "cell_type": "code",
   "execution_count": 18,
   "id": "46c3ab2e",
   "metadata": {},
   "outputs": [],
   "source": [
    "add_dept(employee1,employee2,employee3)"
   ]
  },
  {
   "cell_type": "code",
   "execution_count": 19,
   "id": "2e0e6610",
   "metadata": {},
   "outputs": [
    {
     "data": {
      "text/plain": [
       "[101, 'Raman', 'IT']"
      ]
     },
     "execution_count": 19,
     "metadata": {},
     "output_type": "execute_result"
    }
   ],
   "source": [
    "employee1"
   ]
  },
  {
   "cell_type": "code",
   "execution_count": 20,
   "id": "42bc09fe",
   "metadata": {},
   "outputs": [
    {
     "data": {
      "text/plain": [
       "[102, 'Thaman', 'IT']"
      ]
     },
     "execution_count": 20,
     "metadata": {},
     "output_type": "execute_result"
    }
   ],
   "source": [
    "employee2"
   ]
  },
  {
   "cell_type": "code",
   "execution_count": 21,
   "id": "e70ee716",
   "metadata": {},
   "outputs": [
    {
     "data": {
      "text/plain": [
       "[103, 'Suman', 'IT']"
      ]
     },
     "execution_count": 21,
     "metadata": {},
     "output_type": "execute_result"
    }
   ],
   "source": [
    "employee3"
   ]
  },
  {
   "cell_type": "markdown",
   "id": "977e26ff",
   "metadata": {},
   "source": [
    "## Keyword arguments **kwargs"
   ]
  },
  {
   "cell_type": "code",
   "execution_count": 22,
   "id": "cb03a12d",
   "metadata": {},
   "outputs": [
    {
     "data": {
      "text/plain": [
       "134"
      ]
     },
     "execution_count": 22,
     "metadata": {},
     "output_type": "execute_result"
    }
   ],
   "source": [
    "add (56,78)"
   ]
  },
  {
   "cell_type": "code",
   "execution_count": null,
   "id": "21584605",
   "metadata": {},
   "outputs": [],
   "source": []
  }
 ],
 "metadata": {
  "kernelspec": {
   "display_name": "venv",
   "language": "python",
   "name": "python3"
  },
  "language_info": {
   "codemirror_mode": {
    "name": "ipython",
    "version": 3
   },
   "file_extension": ".py",
   "mimetype": "text/x-python",
   "name": "python",
   "nbconvert_exporter": "python",
   "pygments_lexer": "ipython3",
   "version": "3.13.3"
  }
 },
 "nbformat": 4,
 "nbformat_minor": 5
}
