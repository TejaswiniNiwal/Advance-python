{
 "cells": [
  {
   "cell_type": "markdown",
   "id": "29b5920a",
   "metadata": {},
   "source": [
    "### Multithread"
   ]
  },
  {
   "cell_type": "code",
   "execution_count": 1,
   "id": "3b5e97de",
   "metadata": {},
   "outputs": [],
   "source": [
    "import time"
   ]
  },
  {
   "cell_type": "code",
   "execution_count": 3,
   "id": "b160539f",
   "metadata": {},
   "outputs": [],
   "source": [
    "def sq_data(num):\n",
    "    \"\"\"  \n",
    "    Takes the input as a number and retuns the square of number as output\n",
    "    \"\"\"\n",
    "    ## introducing sleep of 3 sec\n",
    "    time.sleep(3)\n",
    "    c = num**2\n",
    "    print(f\"Square of num {num} is {c}\")\n",
    "    return c"
   ]
  },
  {
   "cell_type": "code",
   "execution_count": 4,
   "id": "2bbc7e79",
   "metadata": {},
   "outputs": [
    {
     "name": "stdout",
     "output_type": "stream",
     "text": [
      "Square of num 35 is 1225\n"
     ]
    },
    {
     "data": {
      "text/plain": [
       "1225"
      ]
     },
     "execution_count": 4,
     "metadata": {},
     "output_type": "execute_result"
    }
   ],
   "source": [
    "sq_data(35)"
   ]
  },
  {
   "cell_type": "code",
   "execution_count": 5,
   "id": "552d0a34",
   "metadata": {},
   "outputs": [],
   "source": [
    "def simple_interest(p,n,r):\n",
    "    \"\"\"\n",
    "    Takes principal,number of years and rate of interest as inputs.\n",
    "    Returns simple interest amount as output\n",
    "    \"\"\"\n",
    "    time.sleep(5)\n",
    "    si = (p*n*r)/100\n",
    "    print(f\"Simple interest is {si}\")\n",
    "    return si"
   ]
  },
  {
   "cell_type": "code",
   "execution_count": 6,
   "id": "0e22757e",
   "metadata": {},
   "outputs": [
    {
     "name": "stdout",
     "output_type": "stream",
     "text": [
      "Simple interest is 3150.0\n"
     ]
    },
    {
     "data": {
      "text/plain": [
       "3150.0"
      ]
     },
     "execution_count": 6,
     "metadata": {},
     "output_type": "execute_result"
    }
   ],
   "source": [
    "simple_interest(45000,2,3.5)"
   ]
  },
  {
   "cell_type": "code",
   "execution_count": 8,
   "id": "41a467eb",
   "metadata": {},
   "outputs": [
    {
     "name": "stdout",
     "output_type": "stream",
     "text": [
      "Simple interest is 6552.0\n",
      "CPU times: total: 0 ns\n",
      "Wall time: 5 s\n"
     ]
    },
    {
     "data": {
      "text/plain": [
       "6552.0"
      ]
     },
     "execution_count": 8,
     "metadata": {},
     "output_type": "execute_result"
    }
   ],
   "source": [
    "%%time\n",
    "s1 = simple_interest(56000,3,3.9)\n",
    "s1"
   ]
  },
  {
   "cell_type": "code",
   "execution_count": 9,
   "id": "fad4ec70",
   "metadata": {},
   "outputs": [
    {
     "name": "stdout",
     "output_type": "stream",
     "text": [
      "Square of num 125 is 15625\n",
      "Simple interest is 255000.0\n",
      "CPU times: total: 0 ns\n",
      "Wall time: 5 s\n"
     ]
    }
   ],
   "source": [
    "%%time\n",
    "from threading import Thread\n",
    "th1 = Thread(target=sq_data,args=(125,))\n",
    "th2 = Thread(target=simple_interest,args=(340000,6,12.5,))\n",
    "\n",
    "th1.start()\n",
    "th2.start()\n",
    "\n",
    "th1.join()\n",
    "th2.join()"
   ]
  },
  {
   "cell_type": "markdown",
   "id": "2ca95ed6",
   "metadata": {},
   "source": [
    "### Threads donot store the outputs.\n",
    "\n",
    "We will have to create functions with dictionary storage format and then use threads"
   ]
  },
  {
   "cell_type": "code",
   "execution_count": 11,
   "id": "3e7f87b7",
   "metadata": {},
   "outputs": [],
   "source": [
    "def factorial(num):\n",
    "    p =1\n",
    "    for i in range(1,num+1):\n",
    "        p=p*i\n",
    "    return p"
   ]
  },
  {
   "cell_type": "code",
   "execution_count": 12,
   "id": "f7e2cba2",
   "metadata": {},
   "outputs": [
    {
     "data": {
      "text/plain": [
       "120"
      ]
     },
     "execution_count": 12,
     "metadata": {},
     "output_type": "execute_result"
    }
   ],
   "source": [
    "factorial(5)"
   ]
  },
  {
   "cell_type": "code",
   "execution_count": 13,
   "id": "f93ddcf0",
   "metadata": {},
   "outputs": [],
   "source": [
    "def factorial2(num,results,key):\n",
    "    time.sleep(3)\n",
    "    p =1\n",
    "    for i in range(1,num+1):\n",
    "        p=p*i\n",
    "    results[key] = p"
   ]
  },
  {
   "cell_type": "code",
   "execution_count": 14,
   "id": "5a85ad12",
   "metadata": {},
   "outputs": [],
   "source": [
    "fact_results = {}\n",
    "factorial2(5,fact_results,5)"
   ]
  },
  {
   "cell_type": "code",
   "execution_count": 15,
   "id": "6fc107c5",
   "metadata": {},
   "outputs": [
    {
     "data": {
      "text/plain": [
       "{5: 120}"
      ]
     },
     "execution_count": 15,
     "metadata": {},
     "output_type": "execute_result"
    }
   ],
   "source": [
    "fact_results"
   ]
  },
  {
   "cell_type": "code",
   "execution_count": 16,
   "id": "4c799574",
   "metadata": {},
   "outputs": [
    {
     "data": {
      "text/plain": [
       "120"
      ]
     },
     "execution_count": 16,
     "metadata": {},
     "output_type": "execute_result"
    }
   ],
   "source": [
    "fact_results.get(5)"
   ]
  },
  {
   "cell_type": "code",
   "execution_count": 17,
   "id": "eba92612",
   "metadata": {},
   "outputs": [
    {
     "data": {
      "text/plain": [
       "120"
      ]
     },
     "execution_count": 17,
     "metadata": {},
     "output_type": "execute_result"
    }
   ],
   "source": [
    "\n",
    "fact_results[5]"
   ]
  },
  {
   "cell_type": "code",
   "execution_count": 18,
   "id": "0e85271a",
   "metadata": {},
   "outputs": [
    {
     "data": {
      "text/plain": [
       "'madam'"
      ]
     },
     "execution_count": 18,
     "metadata": {},
     "output_type": "execute_result"
    }
   ],
   "source": [
    "# palindrome\n",
    "st1 = 'madam'\n",
    "st1[::-1]"
   ]
  },
  {
   "cell_type": "code",
   "execution_count": 19,
   "id": "28a38dab",
   "metadata": {},
   "outputs": [
    {
     "data": {
      "text/plain": [
       "'namar'"
      ]
     },
     "execution_count": 19,
     "metadata": {},
     "output_type": "execute_result"
    }
   ],
   "source": [
    "# not a palindrome\n",
    "st2 = 'raman'\n",
    "st2[::-1]"
   ]
  },
  {
   "cell_type": "code",
   "execution_count": 20,
   "id": "624456a7",
   "metadata": {},
   "outputs": [],
   "source": [
    "def palindrome(string,results,key):\n",
    "    time.sleep(4)\n",
    "    if string == string[::-1]:\n",
    "        results[key] = 'PALINDROME'\n",
    "    else:\n",
    "        results[key] = 'NOT A PALINDROME'"
   ]
  },
  {
   "cell_type": "code",
   "execution_count": 21,
   "id": "2fad63c8",
   "metadata": {},
   "outputs": [
    {
     "name": "stdout",
     "output_type": "stream",
     "text": [
      "Factorial Output 3628800\n",
      "Palindrme output PALINDROME\n",
      "CPU times: total: 15.6 ms\n",
      "Wall time: 4 s\n"
     ]
    }
   ],
   "source": [
    "%%time\n",
    "total_results = {}\n",
    "th3 = Thread(target=factorial2,args=(10,total_results,\"Factorail of 10 \",))\n",
    "th4 = Thread(target=palindrome,args=(\"madam\",total_results,\"Palindrome for Madam text\",))\n",
    "\n",
    "th3.start()\n",
    "th4.start()\n",
    "\n",
    "th3.join()\n",
    "th4.join()\n",
    "\n",
    "# print the results\n",
    "print(\"Factorial Output\",total_results[\"Factorail of 10 \"])\n",
    "print(\"Palindrme output\",total_results[\"Palindrome for Madam text\"])"
   ]
  },
  {
   "cell_type": "code",
   "execution_count": 22,
   "id": "54058a89",
   "metadata": {},
   "outputs": [
    {
     "data": {
      "text/plain": [
       "{'Factorail of 10 ': 3628800, 'Palindrome for Madam text': 'PALINDROME'}"
      ]
     },
     "execution_count": 22,
     "metadata": {},
     "output_type": "execute_result"
    }
   ],
   "source": [
    "total_results"
   ]
  },
  {
   "cell_type": "code",
   "execution_count": 23,
   "id": "1a14f19a",
   "metadata": {},
   "outputs": [],
   "source": [
    "urls = [\n",
    "    \"https://raw.githubusercontent.com/utkarshg1/mlproject_regression/main/artifacts/train.csv\",\n",
    "    \"https://raw.githubusercontent.com/utkarshg1/mlproject_regression/main/artifacts/test.csv\",\n",
    "    \"https://raw.githubusercontent.com/utkarshg1/mlproject_regression/main/artifacts/data.csv\"\n",
    "    ]"
   ]
  },
  {
   "cell_type": "code",
   "execution_count": 24,
   "id": "076d2c7d",
   "metadata": {},
   "outputs": [
    {
     "name": "stdout",
     "output_type": "stream",
     "text": [
      "train.csv\n",
      "test.csv\n",
      "data.csv\n"
     ]
    }
   ],
   "source": [
    "for i in urls:\n",
    "    print(i.split('/')[-1])"
   ]
  },
  {
   "cell_type": "code",
   "execution_count": 25,
   "id": "663c5689",
   "metadata": {},
   "outputs": [],
   "source": [
    "from urllib.request import urlretrieve"
   ]
  },
  {
   "cell_type": "code",
   "execution_count": 26,
   "id": "6e902470",
   "metadata": {},
   "outputs": [],
   "source": [
    "def download_datasets(url_link):\n",
    "    # Extract the filename from url links provided\n",
    "    file_name = url_link.split('/')[-1]\n",
    "\n",
    "    # print the downlodaing status\n",
    "    print(f\"{file_name} is downloading\")\n",
    "\n",
    "    # retrieve contents from the provided url\n",
    "    urlretrieve(url_link,filename=file_name)\n",
    "\n",
    "    # print the downloading status\n",
    "    print(f\"{file_name} is downloaded\")"
   ]
  },
  {
   "cell_type": "code",
   "execution_count": 29,
   "id": "daddcbe1",
   "metadata": {},
   "outputs": [
    {
     "name": "stdout",
     "output_type": "stream",
     "text": [
      "data.csv is downloading\n",
      "data.csv is downloaded\n",
      "data.csv is downloading\n",
      "data.csv is downloaded\n",
      "data.csv is downloading\n",
      "data.csv is downloaded\n"
     ]
    }
   ],
   "source": [
    "for i in urls:\n",
    "    download_datasets(url)"
   ]
  },
  {
   "cell_type": "code",
   "execution_count": 30,
   "id": "22f258e1",
   "metadata": {},
   "outputs": [
    {
     "name": "stdout",
     "output_type": "stream",
     "text": [
      "train.csv is downloading\n",
      "test.csv is downloading\n",
      "data.csv is downloading\n",
      "test.csv is downloaded\n",
      "train.csv is downloaded\n",
      "data.csv is downloaded\n",
      "CPU times: total: 312 ms\n",
      "Wall time: 6.95 s\n"
     ]
    }
   ],
   "source": [
    "%%time\n",
    "threads_data = []\n",
    "for url in urls:\n",
    "    thread = Thread(target=download_datasets,args=(url,))\n",
    "    thread.start()\n",
    "\n",
    "    threads_data.append(thread)\n",
    "\n",
    "for th in threads_data:\n",
    "    th.join()"
   ]
  },
  {
   "cell_type": "code",
   "execution_count": null,
   "id": "978200d7",
   "metadata": {},
   "outputs": [],
   "source": []
  }
 ],
 "metadata": {
  "kernelspec": {
   "display_name": "venv",
   "language": "python",
   "name": "python3"
  },
  "language_info": {
   "codemirror_mode": {
    "name": "ipython",
    "version": 3
   },
   "file_extension": ".py",
   "mimetype": "text/x-python",
   "name": "python",
   "nbconvert_exporter": "python",
   "pygments_lexer": "ipython3",
   "version": "3.13.3"
  }
 },
 "nbformat": 4,
 "nbformat_minor": 5
}
